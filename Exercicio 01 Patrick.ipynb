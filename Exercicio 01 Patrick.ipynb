{
 "cells": [
  {
   "cell_type": "markdown",
   "metadata": {},
   "source": [
    "Faça um Programa que peça o raio de um círculo, calcule e mostre sua área."
   ]
  },
  {
   "cell_type": "code",
   "execution_count": 7,
   "metadata": {},
   "outputs": [
    {
     "name": "stdout",
     "output_type": "stream",
     "text": [
      "Digite o raio do círculo2\n",
      "a 2.0\n"
     ]
    }
   ],
   "source": [
    "import math; \n",
    "raio = float(input(\"Digite o raio do círculo\"))\n",
    "\n",
    "area = math.pi * (raio ** 2)\n",
    "print ('a {}'.format(raio))"
   ]
  },
  {
   "cell_type": "code",
   "execution_count": null,
   "metadata": {},
   "outputs": [],
   "source": []
  },
  {
   "cell_type": "markdown",
   "metadata": {},
   "source": [
    "Faça um Programa que calcule a área de um quadrado, em seguida mostre o dobro desta área para o usuário. "
   ]
  },
  {
   "cell_type": "code",
   "execution_count": 9,
   "metadata": {},
   "outputs": [
    {
     "name": "stdout",
     "output_type": "stream",
     "text": [
      "Digite o lado do quadrado2\n",
      "A area do quadrado é 4.0 \n"
     ]
    }
   ],
   "source": [
    "import math\n",
    "\n",
    "quadrado = float(input(\"Digite o lado do quadrado\"))\n",
    "area = quadrado * quadrado\n",
    "print(\"A area do quadrado é {} \" .format(area))"
   ]
  },
  {
   "cell_type": "markdown",
   "metadata": {},
   "source": [
    "Faça um Programa que pergunte quanto você ganha por hora e o número de horas trabalhadas no mês. Calcule e mostre o total do seu salário no referido mês. "
   ]
  },
  {
   "cell_type": "code",
   "execution_count": 10,
   "metadata": {},
   "outputs": [
    {
     "name": "stdout",
     "output_type": "stream",
     "text": [
      "Digite o valor ganho por hora20\n",
      "Digite a quantidade de hors trabalhadas60\n",
      "O salario a receber é 1200.0 \n"
     ]
    }
   ],
   "source": [
    "import math\n",
    "\n",
    "valorHora = float(input(\"Digite o valor ganho por hora\"))\n",
    "horaTrabalhada = float(input(\"Digite a quantidade de hors trabalhadas\"))\n",
    "salario = valorHora * horaTrabalhada\n",
    "\n",
    "print(\"O salario a receber é {} \" .format(salario))\n"
   ]
  },
  {
   "cell_type": "markdown",
   "metadata": {},
   "source": [
    " Faça um Programa que peça a temperatura em graus Farenheit, transforme e mostre a temperatura em graus Celsius. C = (5 * (F-32) /9)."
   ]
  },
  {
   "cell_type": "code",
   "execution_count": 15,
   "metadata": {},
   "outputs": [
    {
     "name": "stdout",
     "output_type": "stream",
     "text": [
      "Digite a temperatura em Farenheith52\n",
      "A temperatura digitada em Celsios é 11.11111111111111 \n"
     ]
    }
   ],
   "source": [
    "import math\n",
    "\n",
    "f = float(input(\"Digite a temperatura em Farenheith\"))\n",
    "c = (5 * ( f - 32) / 9)\n",
    "print(\"A temperatura digitada em Celsios é {} \".format(c))     \n"
   ]
  },
  {
   "cell_type": "markdown",
   "metadata": {},
   "source": [
    "     Faça um Programa que peça a temperatura em graus Celsius, transforme e mostre em graus Farenheit. "
   ]
  },
  {
   "cell_type": "code",
   "execution_count": 17,
   "metadata": {},
   "outputs": [
    {
     "name": "stdout",
     "output_type": "stream",
     "text": [
      "Digite a temperatura em celsios32\n",
      "A temperatur digitada em Farenheith 89.6 \n"
     ]
    }
   ],
   "source": [
    "import math\n",
    "\n",
    "c =  float(input(\"Digite a temperatura em celsios\"))\n",
    "f = (1.8 * c) + 32\n",
    "print (\"A temperatur digitada em Farenheith {} \" .format(f))"
   ]
  },
  {
   "cell_type": "markdown",
   "metadata": {},
   "source": [
    " Faça um Programa que peça 2 números inteiros e um número real. Calcule e mostre: - o produto do dobro do primeiro com metade do segundo . - a soma do triplo do primeiro com o terceiro. - o terceiro elevado ao cubo."
   ]
  },
  {
   "cell_type": "code",
   "execution_count": null,
   "metadata": {},
   "outputs": [],
   "source": [
    "import math\n",
    "\n",
    "num1 = int(input(\"Digite o primeiro número  \"))\n",
    "num2 = int(input(\"Digite o segundo número  \"))\n",
    "num3 = float(input(\"Digite o terceiro numero  \"))\n",
    "             \n",
    "conta1 = (num1 * 2) * (num2 / 2)\n",
    "conta2 = (num1 * 3) + num3\n",
    "conta3 = num3 ** 3\n",
    "             \n",
    "print (\"O produto do dobro do primeiro com metade do segundo é {}\" .format(conta1))\n",
    "print (\"A soma do triplo do primeiro com o terceiro {} \" .format(conta2))\n",
    "print (\"O terceiro elevado ao cubo {} \" .format(conta3))"
   ]
  },
  {
   "cell_type": "markdown",
   "metadata": {},
   "source": [
    "João Papo-de-Pescador, homem de bem, comprou um microcomputador para controlar o rendimento diário de seu trabalho. Toda vez que ele traz um peso de peixes maior que o estabelecido pelo regulamento de pesca do estado de São Paulo (50 quilos8 deve pagar uma multa de R$ 4,00 por quilo excedente. João precisa que você faça um programa que leia a variável peso (peso de peixes8 e verifque se há excesso. Se houver, gravar na variável excesso e na variável multa o valor da multa que João deverá pagar. Caso contrário mostrar tais variáveis com o conteúdo ZERO. "
   ]
  },
  {
   "cell_type": "code",
   "execution_count": 35,
   "metadata": {},
   "outputs": [
    {
     "name": "stdout",
     "output_type": "stream",
     "text": [
      "Digite o peso do peixe pescado50\n",
      "Multa = zero, excesso = zero\n"
     ]
    }
   ],
   "source": [
    "import math\n",
    "\n",
    "peso = float(input(\"Digite o peso do peixe pescado\"))\n",
    "excesso = peso - 50\n",
    "multa = 4.0 * excesso\n",
    "\n",
    "if peso > 50: \n",
    "    print (\"Preço a pagar ´´´ {} \" .format(multa))\n",
    "else:  print(\"Multa = zero, excesso = zero\")\n"
   ]
  },
  {
   "cell_type": "markdown",
   "metadata": {},
   "source": [
    " Faça um Programa que pergunte quanto você ganha por hora e o número de horas trabalhadas no mês. Calcule e mostre o total do seu salário no referido mês, sabendo-se que são descontados 11% para o Imposto de Renda, 8% para o INSS e 5% para o sindicato, faça um programa que nos dê: - salário bruto. - quanto pagou ao INSS. - quanto pagou ao sindicato. - o salário líquido. - calcule os descontos e o salário líquido, conforme a tabela abaixo:           + Salário Bruto : R$           - IR (11%8 : R$           - INSS (8%8 : R$           - Sindicato ( 5%8 : R$           = Salário Liquido : R$ Obs.: Salário Bruto - Descontos = Salário Líquido.\n"
   ]
  },
  {
   "cell_type": "code",
   "execution_count": null,
   "metadata": {},
   "outputs": [],
   "source": [
    "import math\n",
    "\n",
    "valorHora = float(input(\"Digite valor da hora trabalhada\"))\n",
    "horaTrabalhada = float(input(\"Digite a quantidade de hora trabalhada\"))\n",
    "salario = valorHora * horaTrabalhada\n",
    "\n"
   ]
  }
 ],
 "metadata": {
  "kernelspec": {
   "display_name": "Python 3",
   "language": "python",
   "name": "python3"
  },
  "language_info": {
   "codemirror_mode": {
    "name": "ipython",
    "version": 3
   },
   "file_extension": ".py",
   "mimetype": "text/x-python",
   "name": "python",
   "nbconvert_exporter": "python",
   "pygments_lexer": "ipython3",
   "version": "3.6.5"
  }
 },
 "nbformat": 4,
 "nbformat_minor": 2
}
