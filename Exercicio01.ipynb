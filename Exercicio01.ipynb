{
 "cells": [
  {
   "cell_type": "markdown",
   "metadata": {},
   "source": [
    "Faça um Programa que peça o raio de um círculo, calcule e mostre sua área"
   ]
  },
  {
   "cell_type": "code",
   "execution_count": 7,
   "metadata": {},
   "outputs": [
    {
     "name": "stdout",
     "output_type": "stream",
     "text": [
      "Digite um valor para raio 2\n",
      "A área  do circulo é 12.566368\n"
     ]
    }
   ],
   "source": [
    "import math;\n",
    "raio = float(input('Digite um valor para raio '))\n",
    "math.pi = pi\n",
    "\n",
    "area = pi * raio **2\n",
    "print('A área  do circulo é {}' .format(area))"
   ]
  },
  {
   "cell_type": "markdown",
   "metadata": {},
   "source": [
    "Faça um Programa que calcule a área de um quadrado, em seguida mostre o dobro desta área para o usuário."
   ]
  },
  {
   "cell_type": "code",
   "execution_count": 1,
   "metadata": {},
   "outputs": [
    {
     "name": "stdout",
     "output_type": "stream",
     "text": [
      "Digite um valor para o lado do quadrado6\n",
      "O dobro da area deste quadrado é 72.0\n"
     ]
    }
   ],
   "source": [
    "import math;\n",
    "quadrado = float(input('Digite um valor para o lado do quadrado'))\n",
    "area = quadrado * quadrado \n",
    "aread = area * 2\n",
    "print ('O dobro da area deste quadrado é {}' .format(aread))"
   ]
  },
  {
   "cell_type": "markdown",
   "metadata": {},
   "source": [
    "Faça um Programa que pergunte quanto você ganha por hora e o\n",
    "número de horas trabalhadas no mês. Calcule e mostre o total do\n",
    "seu salário no referido mês"
   ]
  },
  {
   "cell_type": "code",
   "execution_count": 3,
   "metadata": {},
   "outputs": [
    {
     "name": "stdout",
     "output_type": "stream",
     "text": [
      "Quanto voce ganha por hora? 100\n",
      "Quantas horas você trabalha por mês? 120\n",
      "Seu salario referido a este mês é 12000.0\n"
     ]
    }
   ],
   "source": [
    "import math;\n",
    "salariohora = float(input('Quanto voce ganha por hora? '))\n",
    "horastrabalho = float(input('Quantas horas você trabalha por mês? '))\n",
    "salariomensal = salariohora * horastrabalho\n",
    "print('Seu salario referido a este mês é {}' .format(salariomensal))"
   ]
  },
  {
   "cell_type": "markdown",
   "metadata": {},
   "source": [
    "Faça um Programa que peça a temperatura em graus Farenheit,\n",
    "transforme e mostre a temperatura em graus Celsius. C = (5 * (F-\n",
    "328 / 98."
   ]
  },
  {
   "cell_type": "code",
   "execution_count": 4,
   "metadata": {},
   "outputs": [
    {
     "name": "stdout",
     "output_type": "stream",
     "text": [
      "Qua a temperatura? 500\n",
      "A temperatura em graus Celsius é 260.0\n"
     ]
    }
   ],
   "source": [
    "import math;\n",
    "f = float(input('Qua a temperatura? '))\n",
    "c =  (5 * (f - 32 )/9)\n",
    "print('A temperatura em graus Celsius é {}' .format(c))"
   ]
  },
  {
   "cell_type": "markdown",
   "metadata": {},
   "source": [
    "Faça um Programa que peça a temperatura em graus Celsius,\n",
    "transforme e mostre em graus Farenheit."
   ]
  },
  {
   "cell_type": "code",
   "execution_count": 6,
   "metadata": {},
   "outputs": [
    {
     "name": "stdout",
     "output_type": "stream",
     "text": [
      "Qua a temperatura? 500\n",
      "A temperatura em graus Farenheit é 932.0\n"
     ]
    }
   ],
   "source": [
    "import math;\n",
    "c = float(input('Qua a temperatura? '))\n",
    "f =  (1.8* c) + 32\n",
    "print('A temperatura em graus Farenheit é {}' .format(f))"
   ]
  },
  {
   "cell_type": "markdown",
   "metadata": {},
   "source": [
    "Faça um Programa que peça 2 números inteiros e um número\n",
    "real. Calcule e mostre:\n",
    "- o produto do dobro do primeiro com metade do segundo .\n",
    "- a soma do triplo do primeiro com o terceiro.\n",
    "- o terceiro elevado ao cubo."
   ]
  },
  {
   "cell_type": "code",
   "execution_count": 11,
   "metadata": {},
   "outputs": [
    {
     "name": "stdout",
     "output_type": "stream",
     "text": [
      "Digite um número inteiro 10\n",
      "Digite outro número inteiro 20\n",
      "Digite um número real 1.5\n",
      "O resultado dos calculos são 1 - 200.0, 2 - 31.5 e 3 - 3.375\n"
     ]
    }
   ],
   "source": [
    "import math;\n",
    "int1 = float(input('Digite um número inteiro '))\n",
    "int2 = float(input('Digite outro número inteiro '))   \n",
    "r3 = float(input('Digite um número real '))\n",
    "cal1 = (2 * int1) * (int2/2)\n",
    "cal2 = (3* int1) + r3\n",
    "cal3 = r3 **3\n",
    "print('O resultado dos calculos são 1 - {}, 2 - {} e 3 - {}' .format(cal1, cal2, cal3))"
   ]
  },
  {
   "cell_type": "markdown",
   "metadata": {},
   "source": [
    "João Papo-de-Pescador, homem de bem, comprou um\n",
    "microcomputador para controlar o rendimento diário de seu\n",
    "trabalho. Toda vez que ele traz um peso de peixes maior que o\n",
    "estabelecido pelo regulamento de pesca do estado de São Paulo (50\n",
    "quilos deve pagar uma multa de R$ 4,00 por quilo excedente. João\n",
    "precisa que você faça um programa que leia a variável peso (peso\n",
    "de peixes e verifque se há excesso. Se houver, gravar na variável\n",
    "excesso e na variável multa o valor da multa que João deverá pagar.\n",
    "Caso contrário mostrar tais variáveis com o conteúdo ZERO."
   ]
  },
  {
   "cell_type": "code",
   "execution_count": 4,
   "metadata": {},
   "outputs": [
    {
     "name": "stdout",
     "output_type": "stream",
     "text": [
      "Digite o peso do peixe pescado 45\n",
      "Você não pagará nada multa = zero, excesso = zero \n"
     ]
    }
   ],
   "source": [
    "import math;\n",
    "peso = float(input('Digite o peso do peixe pescado '))\n",
    "excesso = 50 - peso\n",
    "multa = 4.0 * excesso\n",
    "if peso > 50:\n",
    "    print ('Você pagará a multa no valor de {}' .format(multa))\n",
    "else: print('Você não pagará nada multa = zero, excesso = zero ')\n"
   ]
  },
  {
   "cell_type": "markdown",
   "metadata": {},
   "source": [
    " Faça um Programa que pergunte quanto você ganha por hora e o\n",
    "número de horas trabalhadas no mês. Calcule e mostre o total do\n",
    "seu salário no referido mês, sabendo-se que são descontados 11%\n",
    "para o Imposto de Renda, 8% para o INSS e 5% para o sindicato,\n",
    "faça um programa que nos dê:\n",
    "- salário bruto.\n",
    "- quanto pagou ao INSS.\n",
    "- quanto pagou ao sindicato.\n",
    "- o salário líquido.\n",
    "- calcule os descontos e o salário líquido, conforme a tabela abaixo: - Salário Bruto : R$\n",
    "- IR (11% ): R$\n",
    "- INSS (8% ): R$\n",
    "- Sindicato ( 5% ): R$\n",
    "\n",
    "= Salário Liquido : R$\n",
    "Obs.: Salário Bruto - Descontos = Salário Líquido."
   ]
  },
  {
   "cell_type": "code",
   "execution_count": 6,
   "metadata": {},
   "outputs": [
    {
     "name": "stdout",
     "output_type": "stream",
     "text": [
      "Quanto voce ganha por hora? 100\n",
      "Quantas horas você trabalha por mês? 100\n",
      "O seu salario bruto é 10000.0 e o seu salario liquido é 7600.0, seus descontos são 2400.0 com 1100.0 para Imposto de Renda, 800.0 par  INSS e 500.0 para o sindicato\n"
     ]
    }
   ],
   "source": [
    "import math;\n",
    "salariohora = float(input('Quanto voce ganha por hora? '))\n",
    "horastrabalho = float(input('Quantas horas você trabalha por mês? '))\n",
    "salariob = salariohora * horastrabalho\n",
    "ir = (salariob / 100) * 11\n",
    "inss = (salariob/100) * 8\n",
    "sind = (salariob/100) * 5\n",
    "desc = ir + inss + sind\n",
    "salariol = salariob - desc\n",
    "print('O seu salario bruto é {} e o seu salario liquido é {}, seus descontos são {} com {} para Imposto de Renda, {} par  INSS e {} para o sindicato' .format(salariob, salariol, desc, ir, inss, sind))"
   ]
  },
  {
   "cell_type": "markdown",
   "metadata": {},
   "source": [
    " Faça um programa que leia 2 strings e informe o conteúdo delas seguido do seu comprimento. Informe também se as duas strings possuem o mesmo comprimento e são iguais ou diferentes no conteúdo. Exemplo: String 1: Brasil Hexa 2018 String 2: Brasil! Hexa 2018! Tamanho de \"Brasil Hexa 2018\": 16 caracteres Tamanho de \"Brasil! Hexa 2018!\": 18 caracteres As duas strings são de tamanhos diferentes. As duas strings possuem conteúdo diferente.\n"
   ]
  },
  {
   "cell_type": "code",
   "execution_count": 3,
   "metadata": {},
   "outputs": [
    {
     "name": "stdout",
     "output_type": "stream",
     "text": [
      "Digite a primeira stringthaina\n",
      "Digite a segunda stringthai\n",
      "6\n",
      "4\n",
      "As duas strings tem tamanho diferente\n",
      "As duas strings possuem conteudos diferentes\n"
     ]
    }
   ],
   "source": [
    "import string;\n",
    "\n",
    "string1 = input('Digite a primeira string')\n",
    "string2 = input('Digite a segunda string')\n",
    "\n",
    "print(len(string1) )\n",
    "print(len(string2) )\n",
    " \n",
    "if len(string1) == len(string2):\n",
    "    print('As duas strings tem o mesmo tamanho')\n",
    "else: print('As duas strings tem tamanho diferente')\n",
    "\n",
    "if string1 == string2:\n",
    "    print('As duas strings possuem conteudos iguais ')\n",
    "else: print('As duas strings possuem conteudos diferentes')"
   ]
  },
  {
   "cell_type": "markdown",
   "metadata": {},
   "source": [
    " Faça um programa que permita ao usuário digitar o seu nome e em seguida mostre o nome do usuário de trás para frente utilizando\n",
    "somente letras maiúsculas. Dica: lembre−se que ao informar o nome o usuário pode digitar letras maiúsculas ou minúsculas. Observação: não use loops.\n"
   ]
  },
  {
   "cell_type": "code",
   "execution_count": 26,
   "metadata": {},
   "outputs": [
    {
     "name": "stdout",
     "output_type": "stream",
     "text": [
      "Digite seu nome Thaina\n",
      "ANIAHT\n"
     ]
    }
   ],
   "source": [
    "import string;\n",
    "\n",
    "nome =  input('Digite seu nome ')\n",
    "\n",
    "print (nome[::-1].upper())\n",
    "\n"
   ]
  },
  {
   "cell_type": "markdown",
   "metadata": {},
   "source": [
    "Faça um programa que solicite a data de nascimento (dd/mm/aaaa) do usuário e imprima a data com o nome do mês por extenso. Data de Nascimento: 29/10/1973 Você nasceu em  29 de Outubro de 1973. Obs.: Não use desvio condicional nem loops.\n"
   ]
  },
  {
   "cell_type": "code",
   "execution_count": 31,
   "metadata": {},
   "outputs": [
    {
     "name": "stdout",
     "output_type": "stream",
     "text": [
      "Informe a data de nascimento: (dd/mm/aaaa)11/01/1997\n",
      "Você nasceu em sábado 11 de janeiro de 1997\n"
     ]
    }
   ],
   "source": [
    "import locale\n",
    "from datetime import date\n",
    "locale.setlocale(locale.LC_TIME, 'portuguese_brazil')\n",
    "\n",
    "datanasc = input(\"Informe a data de nascimento: (dd/mm/aaaa)\").split(\"/\")\n",
    "data = date(day=int(datanasc[0]), month=int(datanasc[1]), year=int(datanasc[2]))\n",
    "\n",
    "str = data.strftime('%A %d de %B de %Y')\n",
    "\n",
    "print(\"Você nasceu em\", str)"
   ]
  },
  {
   "cell_type": "markdown",
   "metadata": {},
   "source": [
    " Leet é uma forma de se escrever o alfabeto latino usando outros símbolos em lugar das letras, como números por exemplo. A própria palavra leet admite muitas variações, como l33t ou 1337. O uso do leet reflete uma subcultura relacionada ao mundo dos jogos de computador e internet, sendo muito usada para confundir os iniciantes e afrmar-se como parte de um grupo. Pesquise sobre as principais formas de traduzir as letras. Depois, faça um programa que peça uma texto e transforme-o para a grafa leet speak. Desafo: não use loops nem desvios condicionais. "
   ]
  },
  {
   "cell_type": "code",
   "execution_count": 5,
   "metadata": {},
   "outputs": [
    {
     "name": "stdout",
     "output_type": "stream",
     "text": [
      "Digite um texto qualquer: leet\n",
      "l337\n"
     ]
    }
   ],
   "source": [
    "string = input(\"Digite um texto qualquer: \")\n",
    "    \n",
    "translation = {\"a\": \"4\", \"A\": \"4\", \"e\": \"3\", \"E\": \"3\", \"i\": \"1\", \"I\": \"1\", \"o\": \"0\", \"O\": \"0\", \"t\": \"7\", \"T\": \"7\", \"s\": '5', \"S\": '5'}\n",
    "\n",
    "string = string.translate(str.maketrans(translation))\n",
    "\n",
    "print(string)"
   ]
  }
 ],
 "metadata": {
  "kernelspec": {
   "display_name": "Python 3",
   "language": "python",
   "name": "python3"
  },
  "language_info": {
   "codemirror_mode": {
    "name": "ipython",
    "version": 3
   },
   "file_extension": ".py",
   "mimetype": "text/x-python",
   "name": "python",
   "nbconvert_exporter": "python",
   "pygments_lexer": "ipython3",
   "version": "3.6.5"
  }
 },
 "nbformat": 4,
 "nbformat_minor": 2
}
