{
 "cells": [
  {
   "cell_type": "markdown",
   "metadata": {},
   "source": [
    "Exercicio04\n",
    "\n",
    "Thainá Mariane Souza Silva 816118386"
   ]
  },
  {
   "cell_type": "markdown",
   "metadata": {},
   "source": [
    "1- Menor de dois pares: Escreva uma função que retorne o menor de dois números dados se ambos os números forem pares, mas retorna o maior se um dos dois for ímpar"
   ]
  },
  {
   "cell_type": "code",
   "execution_count": 17,
   "metadata": {},
   "outputs": [
    {
     "name": "stdout",
     "output_type": "stream",
     "text": [
      "2\n",
      "4\n"
     ]
    }
   ],
   "source": [
    "def comparacao_pares(num1, num2):\n",
    "    numero = [num1, num2]\n",
    "    if num1%2 == 0 and num2%2 == 0:\n",
    "           return min(numero)\n",
    "    elif num1%2 == 0 and num2%2 == 0:\n",
    "           return max(numero)\n",
    "    else:\n",
    "        return max(numero)\n",
    "    \n",
    "print(comparacao_pares(1,2))\n",
    "print(comparacao_pares(6,4))\n",
    "        "
   ]
  },
  {
   "cell_type": "markdown",
   "metadata": {},
   "source": [
    " 2 - Mesma letra: Escreva uma função que receba uma string com duas palavras e retorne True se ambas palavras começarem com a mesma letra."
   ]
  },
  {
   "cell_type": "code",
   "execution_count": 1,
   "metadata": {},
   "outputs": [
    {
     "name": "stdout",
     "output_type": "stream",
     "text": [
      "True\n"
     ]
    }
   ],
   "source": [
    "def comeca_com_a_mesma_letra(palavra):\n",
    "    partes = palavra.split(\" \")\n",
    "    if partes[0][0] == partes[1][0]:\n",
    "        return True\n",
    "    return False\n",
    "print(comeca_com_a_mesma_letra(\"Cão Covarde\"))"
   ]
  },
  {
   "cell_type": "code",
   "execution_count": 6,
   "metadata": {},
   "outputs": [
    {
     "name": "stdout",
     "output_type": "stream",
     "text": [
      "True\n"
     ]
    }
   ],
   "source": [
    "#Versao alternada \n",
    "\n",
    "def comeca_com_a_mesma_letra(palavra):\n",
    "    partes = palavra.split(\" \")\n",
    "    return True if partes[0][0] == partes[1][0] else False\n",
    "resultado = comeca_com_a_mesma_letra(\"Cão Covarde\")\n",
    "print(resultado)"
   ]
  },
  {
   "cell_type": "markdown",
   "metadata": {},
   "source": [
    "3-  Mestre Yoda: Dada uma sentença, a função deve retornar a sentença com as palavras na ordem reversa. "
   ]
  },
  {
   "cell_type": "code",
   "execution_count": 18,
   "metadata": {},
   "outputs": [
    {
     "name": "stdout",
     "output_type": "stream",
     "text": [
      "['world', 'hello']\n"
     ]
    }
   ],
   "source": [
    "def funcao_reversa(palavra):\n",
    "    reversa = palavra.split(\" \")\n",
    "    \n",
    "    return reversa[::-1]\n",
    "\n",
    "print(funcao_reversa(\"hello world\"))\n",
    "        "
   ]
  },
  {
   "cell_type": "markdown",
   "metadata": {},
   "source": [
    " 4-Tem 33: Faça uma função que retorne True se, dada uma lista de inteiros, houver em alguma posição da lista um 3 do lado de outro 3. Exemplo:\n"
   ]
  },
  {
   "cell_type": "code",
   "execution_count": 8,
   "metadata": {},
   "outputs": [
    {
     "name": "stdout",
     "output_type": "stream",
     "text": [
      "True\n",
      "True\n",
      "True\n"
     ]
    }
   ],
   "source": [
    "def tem_33(lista):\n",
    "    status = \"Nada\"\n",
    "    for simbolo in lista:\n",
    "        if simbolo == 3:\n",
    "            if status == \"Nada\":\n",
    "                status = \"Tres\"\n",
    "            elif status == \"Tres\":\n",
    "                return True\n",
    "        else:\n",
    "            if status == \"Tres\":\n",
    "                status == \"Nada\"\n",
    "    return False\n",
    "\n",
    "print(tem_33([3,3,1]))\n",
    "print(tem_33([3,1,3,1,3,1,3,1]))\n",
    "print(tem_33([1,1,1,3,1,1,1,3,1,1,1,3,3]))\n"
   ]
  },
  {
   "cell_type": "markdown",
   "metadata": {},
   "source": [
    "5 -  Blackjack: Faça uma função que receba 3 inteiros entre 1 e 11. Se a soma deles for menor que 21, retorne o valor da soma. Se for mair do que 21 e houver um 11, \n",
    "subtraia 10 da soma antes de apresentar o resultado. Se o valor da soma passar de 21, retorne ‘ESTOUROU’."
   ]
  },
  {
   "cell_type": "code",
   "execution_count": 13,
   "metadata": {},
   "outputs": [
    {
     "name": "stdout",
     "output_type": "stream",
     "text": [
      "18\n",
      "('ESTOUROU', 27)\n",
      "19\n",
      "20\n"
     ]
    }
   ],
   "source": [
    "def blackjack(a, b, c):\n",
    "    soma = a +b +c \n",
    "    if soma <= 21:\n",
    "        return soma\n",
    "    else:\n",
    "        if 11 in [a,b,c]:\n",
    "            return soma - 10 \n",
    "        return (\"ESTOUROU\", soma)\n",
    "    \n",
    "print(blackjack(5,6,7))\n",
    "print(blackjack(9,9,9))\n",
    "print(blackjack(9,9,11))\n",
    "print(blackjack(10,2,8))"
   ]
  },
  {
   "cell_type": "markdown",
   "metadata": {},
   "source": [
    "6- Espião: Escreva uma função que receba uma lista de inteiros e retorne True se contém um 007 em ordem, mesmo que não contínuo"
   ]
  },
  {
   "cell_type": "code",
   "execution_count": 21,
   "metadata": {},
   "outputs": [
    {
     "name": "stdout",
     "output_type": "stream",
     "text": [
      "True\n",
      "False\n"
     ]
    }
   ],
   "source": [
    "def espiao_007(lista):\n",
    "    status = \"Vazio\"\n",
    "    for simbolo in lista:\n",
    "        if simbolo == 0:\n",
    "            if status == \"Vazio\":\n",
    "                status = \"0\"\n",
    "            elif status == \"0\":\n",
    "                status = \"0 0\"\n",
    "        elif simbolo == 7:\n",
    "            if status == \"0 0\":\n",
    "                return True\n",
    "    return False\n",
    "\n",
    "print(espiao_007([1,0,2,0,8,7]))\n",
    "print(espiao_007([1,0,7,0,8,9]))\n",
    "                \n",
    "                \n",
    "                \n",
    "            \n",
    "        "
   ]
  }
 ],
 "metadata": {
  "kernelspec": {
   "display_name": "Python 3",
   "language": "python",
   "name": "python3"
  },
  "language_info": {
   "codemirror_mode": {
    "name": "ipython",
    "version": 3
   },
   "file_extension": ".py",
   "mimetype": "text/x-python",
   "name": "python",
   "nbconvert_exporter": "python",
   "pygments_lexer": "ipython3",
   "version": "3.6.5"
  }
 },
 "nbformat": 4,
 "nbformat_minor": 2
}
