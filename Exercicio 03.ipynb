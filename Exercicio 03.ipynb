{
 "cells": [
  {
   "cell_type": "markdown",
   "metadata": {},
   "source": [
    "Exercicios 03\n",
    "\n",
    "Thainá Mariane Souza Silva\n",
    "816118386"
   ]
  },
  {
   "cell_type": "markdown",
   "metadata": {},
   "source": [
    "Faça um Programa que peça dois números e imprima o maior deles."
   ]
  },
  {
   "cell_type": "markdown",
   "metadata": {},
   "source": [
    "\n",
    "\n",
    "1-  Faça um Programa que verifque se uma letra digitada é vogal ou consoante. "
   ]
  },
  {
   "cell_type": "code",
   "execution_count": 2,
   "metadata": {},
   "outputs": [
    {
     "name": "stdout",
     "output_type": "stream",
     "text": [
      "Digite um número 2\n",
      "Digite outro número 10\n",
      "O número 10.0 é maior\n"
     ]
    }
   ],
   "source": [
    "num1 = float(input(\"Digite um número \"))\n",
    "num2 = float(input(\"Digite outro número \"))\n",
    "\n",
    "if num1 > num2:\n",
    "    print(f\"O número {num1} é mior\")\n",
    "else:\n",
    "    print(f\"O número {num2} é maior\")"
   ]
  },
  {
   "cell_type": "markdown",
   "metadata": {},
   "source": [
    "2- Faça um Programa que verifque se uma letra digitada é vogal ou consoante."
   ]
  },
  {
   "cell_type": "code",
   "execution_count": 2,
   "metadata": {},
   "outputs": [
    {
     "name": "stdout",
     "output_type": "stream",
     "text": [
      "Digite uma letra a\n",
      "Sim é uma vogal\n"
     ]
    }
   ],
   "source": [
    "vogais = 'aeiou'\n",
    "letra = input(\"Digite uma letra \")\n",
    "\n",
    "if letra in vogais:\n",
    "    print(\"Sim é uma vogal\")\n",
    "else:\n",
    "    print(\"Não, é uma consoante\")"
   ]
  },
  {
   "cell_type": "markdown",
   "metadata": {},
   "source": [
    " 3 - Faça um programa para a leitura de duas notas parciais de um aluno. O programa deve calcular a média alcançada por aluno e apresentar: \n",
    " - A mensagem \"Aprovado\", se a média alcançada for maior ou igual a sete; \n",
    " - A mensagem \"Reprovado\", se a média for menor do que sete;\n",
    " - A mensagem \"Aprovado com Distinção\", se a média for igual a dez."
   ]
  },
  {
   "cell_type": "code",
   "execution_count": 8,
   "metadata": {},
   "outputs": [
    {
     "name": "stdout",
     "output_type": "stream",
     "text": [
      "Digite duas notas para um aluno, ex : aluno, nota1, nota2 Thaina, 10, 12\n",
      "Aprovado com a média: 11.0\n"
     ]
    }
   ],
   "source": [
    "import math\n",
    "\n",
    "nota = input(\"Digite duas notas para um aluno, ex : aluno, nota1, nota2 \")\n",
    "nota = nota.split(\",\")\n",
    "\n",
    "disc = {}\n",
    "\n",
    "count = 0\n",
    "\n",
    "for i in nota:\n",
    "       disc[nota[0]]  = {\"nota1\": nota[1], \"nota2\": nota[2]}\n",
    "for i in disc:\n",
    "     media = (int(disc[i]['nota1']) + int(disc[i]['nota2']))/2\n",
    "if media == 10:\n",
    "    print(f\"Aprovado com distinção\")\n",
    "elif media < 7:\n",
    "    print(f\"Reprovado com a média: {media}\")\n",
    "elif media >= 7:\n",
    "    print(f\"Aprovado com a média: {media}\")\n",
    "        \n",
    "\n"
   ]
  },
  {
   "cell_type": "markdown",
   "metadata": {},
   "source": [
    "4- Faça um Programa que leia três números e mostre-os em ordem decrescente"
   ]
  },
  {
   "cell_type": "code",
   "execution_count": 17,
   "metadata": {},
   "outputs": [
    {
     "name": "stdout",
     "output_type": "stream",
     "text": [
      "Digite separado por espaço 1 2 3 \n",
      "3 2 1\n"
     ]
    }
   ],
   "source": [
    "lista = [int(x) for x in input(\"Digite separado por espaço \").split()]\n",
    "\n",
    "if lista[0] > lista[1]:\n",
    "    if lista[0] > lista[2]:\n",
    "        if lista[1] > lista[2]:\n",
    "            print(lista[0], lista[1], lista[2])\n",
    "        else: (lista[0], lista[2], lista[1])\n",
    "    else:(lista[2], list[0], lista[1])\n",
    "else:\n",
    "    if lista[1] > lista[2]:\n",
    "        if lista[2] > lista[0]:\n",
    "            print(lista[1], lista[2], lista[0])\n",
    "        else: \n",
    "            print(lista[1], lista[0], lista[2])\n",
    "    else:\n",
    "        print(lista[2], lista[1], lista[0])\n"
   ]
  },
  {
   "cell_type": "code",
   "execution_count": 18,
   "metadata": {},
   "outputs": [
    {
     "name": "stdout",
     "output_type": "stream",
     "text": [
      "Digite separado por espaço1 2 3 \n",
      "[3, 2, 1]\n"
     ]
    }
   ],
   "source": [
    "#versao facil\n",
    "\n",
    "print(sorted ([int(x) for x in input(\"Digite separado por espaço\").split()], reverse = True))"
   ]
  },
  {
   "cell_type": "markdown",
   "metadata": {},
   "source": [
    "5- As Organizações Tabajara resolveram dar um aumento de salário aos seus colaboradores e lhe contrataram para desenvolver o programa que calculará os reajustes. Faça um programa que recebe o salário de um colaborador e o reajuste segundo o seguinte critério, baseado no salário atual: \n",
    "- salários até R$ 280,00 (incluindo) : aumento de 20%\n",
    "- salários entre R$ 280,00 e R$ 700,00 : aumento de 15% \n",
    "- salários entre R$ 700,00 e R$ 1500,00 : aumento de 10% \n",
    "- salários de R$ 1500,00 em diante : aumento de 5% Após o aumento ser realizado, informe na tela\n",
    "- o salário antes do reajuste; \n",
    "- o percentual de aumento aplicado; \n",
    "- o valor do aumento;\n",
    "- o novo salário, após o aumento. "
   ]
  },
  {
   "cell_type": "code",
   "execution_count": 5,
   "metadata": {},
   "outputs": [
    {
     "name": "stdout",
     "output_type": "stream",
     "text": [
      "Digite o salario do colaborador: 300\n",
      "O salario antes do ajuste era: 300.0\n",
      "O percentual aplicado foi 15.0 %\n",
      "o valor do aumento foi 45.0\n",
      "o novo salario é:  345.0\n"
     ]
    }
   ],
   "source": [
    "salario = float(input(\"Digite o salario do colaborador: \"))\n",
    "\n",
    "\n",
    "\n",
    "if salario == 280.00:\n",
    "    perc = 0.2\n",
    "    valor_aumento = salario * perc\n",
    "elif salario >= 280.00 and salario <= 700.00 :\n",
    "    perc = 0.15\n",
    "    valor_aumento = salario * perc\n",
    "elif salario >= 700 and salario <= 1500.00 :\n",
    "    perc = 0.1\n",
    "    valor_aumento = salario * perc\n",
    "elif salario >= 1500.00:\n",
    "    perc = 0.05\n",
    "    valor_aumento = salario * perc\n",
    "\n",
    "print(f\"O salario antes do ajuste era: {salario}\")\n",
    "print(\"O percentual aplicado foi\",perc * 100,\"%\")\n",
    "print(f\"o valor do aumento foi {valor_aumento}\")\n",
    "print(\"o novo salario é: \",salario + valor_aumento)\n"
   ]
  },
  {
   "cell_type": "markdown",
   "metadata": {},
   "source": [
    "6-  Faça um Programa que leia um número e exiba o dia correspondente da semana. (1-Domingo, 2- Segunda, etc.), se digitar outro valor deve aparecer valor inválido. "
   ]
  },
  {
   "cell_type": "code",
   "execution_count": 21,
   "metadata": {},
   "outputs": [
    {
     "name": "stdout",
     "output_type": "stream",
     "text": [
      "Digite o dia5\n",
      "Quinta\n"
     ]
    }
   ],
   "source": [
    "dias = {1 : \"Domingo\", 2 : \"Segunda\", 3 : \"Terça\", 4 : \"Quarta\", 5 : \"Quinta\", 6 : \"Sexta\", 7 : \"Sabado\"}\n",
    "\n",
    "dia = int(input(\"Digite o dia\"))\n",
    "if dia < 1 or dia > 7:\n",
    "    print(\"Fora do intervalo\")\n",
    "else:\n",
    "    print(dias[dia])\n",
    "        "
   ]
  },
  {
   "cell_type": "markdown",
   "metadata": {},
   "source": [
    "7 - Faça um programa que lê as duas notas parciais obtidas por um aluno numa disciplina ao longo de um semestre, e calcule a sua média. A atribuição de conceitos obedece à tabela abaixo:  \n",
    "    Média de Aproveitamento  Conceito  \n",
    "    Entre 9.0 e 10.0        A  \n",
    "    Entre 7.5 e 9.0         B  \n",
    "    Entre 6.0 e 7.5         C  \n",
    "    Entre 4.0 e 6.0         D  \n",
    "    Entre 4.0 e zero        E \n",
    "    \n",
    "    O algoritmo deve mostrar na tela as notas, a média, o conceito correspondente e a mensagem “APROVADO” se o conceito for A, B ou C ou “REPROVADO” se o conceito for D ou E."
   ]
  },
  {
   "cell_type": "code",
   "execution_count": 20,
   "metadata": {},
   "outputs": [
    {
     "name": "stdout",
     "output_type": "stream",
     "text": [
      "Digite o nome do aluno Thaina\n",
      "Digite a primeira nota do aluno 10\n",
      "Digite a segunda nota do aluno 5\n",
      "Thaina\n",
      "10.0 5.0\n",
      "7.5\n",
      "Obteve o conceito B\n",
      "Aprovado\n"
     ]
    }
   ],
   "source": [
    "import math\n",
    "\n",
    "aluno = input(\"Digite o nome do aluno \")\n",
    "nota1 = float(input(\"Digite a primeira nota do aluno \"))\n",
    "nota2 = float(input(\"Digite a segunda nota do aluno \"))\n",
    "\n",
    "media = (nota1 + nota2)/2\n",
    "\n",
    "if media >= 9.0 and media <= 10.0:\n",
    "    print(aluno)\n",
    "    print(nota1, nota2)\n",
    "    print(media)\n",
    "    print(\"Obteve o conceito A\")\n",
    "    print(\"Aprovado\")\n",
    "elif media >= 7.5 and media <= 9.0:\n",
    "    print(aluno)\n",
    "    print(nota1, nota2)\n",
    "    print(media)\n",
    "    print(\"Obteve o conceito B\")\n",
    "    print(\"Aprovado\")\n",
    "elif media >= 6.0 and media >= 7.5:\n",
    "    print(aluno)\n",
    "    print(nota1, nota2)\n",
    "    print(media)\n",
    "    print(\"Obteve o conceito C\")\n",
    "    print(\"Aprovado\")\n",
    "elif media >= 4.0 and media <= 6.0:\n",
    "    print(aluno)\n",
    "    print(nota1, nota2)\n",
    "    print(media)\n",
    "    print(\"Obteve o conceito D\")\n",
    "    print(\"Reprovado\")\n",
    "elif media >= 0 and media <=4.0:\n",
    "    print(aluno)\n",
    "    print(nota1, nota2)\n",
    "    print(media)\n",
    "    print(\"Obteve o conceito E\")\n",
    "    print(\"Reprovado\")\n",
    "\n",
    "        "
   ]
  },
  {
   "cell_type": "markdown",
   "metadata": {},
   "source": [
    "8- Faça um Programa que peça os 3 lados de um triângulo. O programa deverá informar se os valores podem ser um triângulo. Indique, caso os lados formem um triângulo, se o mesmo é: equilátero, isósceles ou escaleno.\n",
    "Dicas: \n",
    "- Três lados formam um triângulo quando a soma de quaisquer dois lados for maior que o terceiro;\n",
    "- Triângulo Equilátero: três lados iguais; \n",
    "- Triângulo Isósceles: quaisquer dois lados iguais; \n",
    "- Triângulo Escaleno: três lados diferentes; "
   ]
  },
  {
   "cell_type": "code",
   "execution_count": 27,
   "metadata": {},
   "outputs": [
    {
     "name": "stdout",
     "output_type": "stream",
     "text": [
      "Digite lado 1: 2 \n",
      "Digite lado 2: 2\n",
      "Digite lado 3:3\n",
      "Isóceles\n"
     ]
    }
   ],
   "source": [
    "a = float(input(\"Digite lado 1: \"))\n",
    "b = float(input(\"Digite lado 2: \"))\n",
    "c = float(input(\"Digite lado 3: \"))\n",
    "\n",
    "if a + b > c and a + c > b and b + c > a:\n",
    "    if a == b and a == c:\n",
    "        print(\"Equilatero\")\n",
    "    elif a == b or a == c or b == c:\n",
    "        print(\"Isóceles\")\n",
    "    else:\n",
    "        print(\"Escaleno\")\n",
    "else:\n",
    "    print(\"Não podem formar um triangulo\")"
   ]
  },
  {
   "cell_type": "markdown",
   "metadata": {},
   "source": [
    "9- . Faça um programa que calcule as raízes de uma equação do segundo grau, na forma ax2 + bx + c. O programa deverá pedir os valores de a, b e c e fazer as consistências, informando ao usuário nas seguintes situações:\n",
    "- Se o usuário informar o valor de A igual a zero, a equação não é do segundo grau e o programa não deve fazer pedir os demais valores, sendo encerrado;\n",
    "- Se o delta calculado for negativo, a equação não possui raizes reais. Informe ao usuário e encerre o programa;\n",
    "- Se o delta calculado for igual a zero a equação possui apenas uma raiz real; informe-a ao usuário; \n",
    "- Se o delta for positivo, a equação possui duas raiz reais; informeas ao usuário;"
   ]
  },
  {
   "cell_type": "code",
   "execution_count": 30,
   "metadata": {},
   "outputs": [
    {
     "name": "stdout",
     "output_type": "stream",
     "text": [
      "Digite um valor para A 1\n",
      "Digite um valor para B 6\n",
      "Digite um valor para C 2\n",
      "28\n",
      "Os resultados desta equação são: -0.3542486889354093 -5.645751311064591\n"
     ]
    }
   ],
   "source": [
    "a = int(input(\"Digite um valor para A \"))\n",
    "\n",
    "if a != 0:\n",
    "    b = int(input(\"Digite um valor para B \"))\n",
    "    c = int(input(\"Digite um valor para C \"))\n",
    "    delta = (b**2) - (4 *a *c)\n",
    "    print(delta)\n",
    "    if delta < 0:\n",
    "        print(\"Delta não possui raiz\")\n",
    "    elif delta == 0:\n",
    "        x0 =  (-b + (delta **(1/2)))/ (2 * a)\n",
    "        print(\"Esta equação possui apenas um resultado: \", x0 )\n",
    "    else:\n",
    "        x1 = (-b + (delta **(1/2)))/ (2 *a)\n",
    "        x2 = (-b - (delta **(1/2)))/ (2 *a)\n",
    "        print(\"Os resultados desta equação são:\", x1, x2)\n",
    "else:\n",
    "    print(\"Valor inválido: A não pode ser zero\")"
   ]
  },
  {
   "cell_type": "markdown",
   "metadata": {},
   "source": [
    " 10- Faça um Programa para um caixa eletrônico. O programa deverá perguntar ao usuário a valor do saque e depois informar quantas notas de cada valor serão fornecidas. As notas disponíveis serão as de 1, 5, 10, 50 e 100 reais. O valor mínimo é de 10 reais e o máximo de 600 reais. O programa não deve se preocupar com a quantidade de notas existentes na máquina. \n",
    " - Exemplo 1: Para sacar a quantia de 256 reais, o programa fornece duas notas de 100, uma nota de 50, uma nota de 5 e uma nota de 1;\n",
    " - Exemplo 2: Para sacar a quantia de 399 reais, o programa fornece três notas de 100, uma nota de 50, quatro notas de 10, uma nota de 5 e quatro notas de 1. "
   ]
  },
  {
   "cell_type": "code",
   "execution_count": 32,
   "metadata": {},
   "outputs": [
    {
     "name": "stdout",
     "output_type": "stream",
     "text": [
      "Quanto você quer sacar 256\n",
      "2 1 0 1 1\n"
     ]
    }
   ],
   "source": [
    "saque = int(input(\"Quanto você quer sacar \"))\n",
    "\n",
    "if saque >= 10 and  saque <= 600:\n",
    "    n100 = saque // 100\n",
    "    r100 = saque % 100\n",
    "    n50 = r100 // 50\n",
    "    r50 = r100 % 50\n",
    "    n10 = r50 // 10\n",
    "    r10 = r50 % 10 \n",
    "    n5 = r10 // 5 \n",
    "    r5 = r10 % 5 \n",
    "    n1 = r5 // 1 \n",
    "    print(n100, n50, n10, n5, n1)\n",
    "    \n",
    "else: \n",
    "    print(\"Não foi possivel sacar este valor\")"
   ]
  },
  {
   "cell_type": "markdown",
   "metadata": {},
   "source": [
    "11-  Faça um programa que faça 5 perguntas para uma pessoa sobre um crime. As perguntas são: \"Telefonou para a vítima?\" \"Esteve no local do crime?\" \"Mora perto da vítima?\" \"Devia para a vítima?\" \"Já trabalhou com a vítima?\" O programa deve no fnal emitir uma classifcação sobre a participação da pessoa no crime. Se a pessoa responder positivamente a 2 questões ela deve ser classifcada como \"Suspeita\", entre 3 e 4 como \"Cúmplice\" e 5 como \"Assassino\". Caso contrário, ele será classifcado como \"Inocente\"."
   ]
  },
  {
   "cell_type": "code",
   "execution_count": 43,
   "metadata": {},
   "outputs": [
    {
     "name": "stdout",
     "output_type": "stream",
     "text": [
      "Telefonou para a vítima?sim\n",
      "Esteve no local do crime?sim\n",
      "Mora perto da vítima?sim\n",
      "Devia para a vítima?sim\n",
      "Já trabalhou com a vítima?sim\n",
      "Assassino\n"
     ]
    }
   ],
   "source": [
    "p1 = input(\"Telefonou para a vítima?\")\n",
    "p2 = input(\"Esteve no local do crime?\")\n",
    "p3 = input(\"Mora perto da vítima?\")\n",
    "p4 = input(\"Devia para a vítima?\")\n",
    "p5 = input(\"Já trabalhou com a vítima?\")\n",
    "\n",
    "lista_investigacao = [p1, p2, p3, p4, p5]\n",
    "\n",
    "           \n",
    "culpa =  0\n",
    "           \n",
    "for i in lista_investigacao:\n",
    "    if i == \"sim\":\n",
    "        culpa = culpa +1\n",
    "\n",
    "if culpa == 2:\n",
    "    print(\"Suspeito\")\n",
    "elif culpa == 3 or culpa == 4:\n",
    "    print(\"Cúmplice\")\n",
    "elif culpa == 5:\n",
    "    print(\"Assassino\")"
   ]
  },
  {
   "cell_type": "markdown",
   "metadata": {},
   "source": [
    " 12 - Uma fruteira está vendendo frutas com a seguinte tabela de preços:                      Até 5 Kg           Acima de 5 Kg Morango         R$ 2,50 por Kg          R$ 2,20 por Kg Maçã            R$ 1,80 por Kg          R$ 1,50 por Kg Se o cliente comprar mais de 8 Kg em frutas ou o valor total da compra ultrapassar R$ 25,00, receberá ainda um desconto de 10% sobre este total. Escreva um algoritmo para ler a quantidade (em Kg) de morangos e a quantidade (em Kg) de maças adquiridas e escreva o valor a ser pago pelo cliente. "
   ]
  },
  {
   "cell_type": "code",
   "execution_count": 33,
   "metadata": {},
   "outputs": [
    {
     "name": "stdout",
     "output_type": "stream",
     "text": [
      "Quantos kg de maçã? 4\n",
      "Quant os kg de morano? 3\n",
      "Voce vai pagar 14.7\n"
     ]
    }
   ],
   "source": [
    "maca = float(input(\"Quantos kg de maçã? \"))\n",
    "morango = float(input(\"Quant os kg de morano? \"))\n",
    "\n",
    "if maca <= 5:\n",
    "    total_maca  = maca * 1.8\n",
    "else:\n",
    "    total_maca = maca * 1.5\n",
    "    \n",
    "if morango <= 5:\n",
    "    total_morango = morango  * 2.5\n",
    "else:\n",
    "    total_morango = morango * 2.2\n",
    "\n",
    "total_quilos = maca + morango\n",
    "preco_final = total_maca + total_morango\n",
    "\n",
    "if total_quilos > 8 or preco_final > 25:\n",
    "    preco_final = preco_final * 0.9\n",
    "print(f'Voce vai pagar {preco_final}')\n",
    "        "
   ]
  },
  {
   "cell_type": "markdown",
   "metadata": {},
   "source": [
    "13-  Faça um programa que peça uma nota, entre zero e dez. Mostre uma mensagem caso o valor seja inválido e continue pedindo até que o usuário informe um valor válido. "
   ]
  },
  {
   "cell_type": "code",
   "execution_count": 4,
   "metadata": {},
   "outputs": [
    {
     "name": "stdout",
     "output_type": "stream",
     "text": [
      "Digite uma nota de zero a dez: 12\n",
      "12\n"
     ]
    }
   ],
   "source": [
    "nota = int(input(\"Digite uma nota de zero a dez: \"))\n",
    "\n",
    "\n",
    "while nota < 0 and nota > 10:\n",
    "    print(\"nota invalida digite novamente\")  \n",
    "    nota_novamente = int(input(\"Digite novamente\"))\n",
    "else: \n",
    "    print(nota)\n"
   ]
  },
  {
   "cell_type": "markdown",
   "metadata": {},
   "source": [
    "13_2 -  Faça um programa que leia e valide as seguintes informações:\n",
    "Nome: maior que 3 caracteres; \n",
    "Idade: entre 0 e 150; \n",
    "Salário: maior que zero; \n",
    "Sexo: 'f' ou 'm'; \n",
    "Estado Civil: 's', 'c', 'v', 'd';"
   ]
  },
  {
   "cell_type": "code",
   "execution_count": 36,
   "metadata": {
    "scrolled": true
   },
   "outputs": [
    {
     "name": "stdout",
     "output_type": "stream",
     "text": [
      "Digite o nome ana\n",
      "Digite a idade 21\n",
      "Digite o salario 2000\n",
      "Digite o sexo f\n",
      "Digite o estado civil s\n"
     ]
    }
   ],
   "source": [
    "valid = True\n",
    "\n",
    "while valid: \n",
    "    nome = input(\"Digite o nome \")\n",
    "    idade = input(\"Digite a idade \")\n",
    "    salario = float (input(\"Digite o salario \"))\n",
    "    sexo = input(\"Digite o sexo \")\n",
    "    est_civil = input(\"Digite o estado civil \")\n",
    "    if len(nome) > 3 and idade >= 0 and idade <= 150 and salario > 0 and sexo in 'fm' and est_civil in \"scvd\":\n",
    "        print(\"Esse passou\")\n",
    "    else:\n",
    "        valid = not valid"
   ]
  },
  {
   "cell_type": "markdown",
   "metadata": {},
   "source": [
    "\n",
    "14- Faça um programa que leia 5 números e informe o maior número."
   ]
  },
  {
   "cell_type": "code",
   "execution_count": 52,
   "metadata": {},
   "outputs": [
    {
     "name": "stdout",
     "output_type": "stream",
     "text": [
      "Digite um número 12\n",
      "Digite um número 20\n",
      "Digite um número 30\n",
      "Digite um número 1\n",
      "Digite um número 89\n",
      "O maior número é:  89\n"
     ]
    }
   ],
   "source": [
    "numero1 = int(input(\"Digite um número \"))\n",
    "numero2 = int(input(\"Digite um número \"))\n",
    "numero3 = int(input(\"Digite um número \"))\n",
    "numero4 = int(input(\"Digite um número \"))\n",
    "numero5 = int(input(\"Digite um número \"))\n",
    "\n",
    "lista_numeros = [numero1, numero2, numero3, numero4, numero5]\n",
    "\n",
    "print(\"O maior número é: \", max(lista_numeros))"
   ]
  },
  {
   "cell_type": "markdown",
   "metadata": {},
   "source": [
    "15 - Faça um programa que leia 5 números e informe a soma e a média dos números. "
   ]
  },
  {
   "cell_type": "code",
   "execution_count": 1,
   "metadata": {},
   "outputs": [
    {
     "name": "stdout",
     "output_type": "stream",
     "text": [
      "Digite valor1\n",
      "Digite valor2\n",
      "Digite valor3\n",
      "Digite valor4\n",
      "Digite valor5\n",
      "15.0 3.0\n"
     ]
    }
   ],
   "source": [
    "soma = 0\n",
    "\n",
    "for i in range(5):\n",
    "    soma += float(input(\"Digite valor\"))\n",
    "print(soma, soma/5)"
   ]
  },
  {
   "cell_type": "markdown",
   "metadata": {},
   "source": [
    "16-Faça um programa que imprima na tela apenas os números ímpares entre 1 e 50."
   ]
  },
  {
   "cell_type": "code",
   "execution_count": 2,
   "metadata": {},
   "outputs": [
    {
     "name": "stdout",
     "output_type": "stream",
     "text": [
      "1\n",
      "3\n",
      "5\n",
      "7\n",
      "9\n",
      "11\n",
      "13\n",
      "15\n",
      "17\n",
      "19\n",
      "21\n",
      "23\n",
      "25\n",
      "27\n",
      "29\n",
      "31\n",
      "33\n",
      "35\n",
      "37\n",
      "39\n",
      "41\n",
      "43\n",
      "45\n",
      "47\n",
      "49\n"
     ]
    }
   ],
   "source": [
    "x = 1 \n",
    "while x <= 50:\n",
    "    print(x)\n",
    "    x+=2"
   ]
  },
  {
   "cell_type": "markdown",
   "metadata": {},
   "source": [
    "17-  Desenvolva um gerador de tabuada, capaz de gerar a tabuada de qualquer número inteiro entre 1 a 10. O usuário deve informar de qual numero ele deseja ver a tabuada. A saída deve ser conforme o exemplo abaixo: Tabuada de 5: 5 X 1 = 5 5 X 2 = 10 ... 5 X 10 = 50"
   ]
  },
  {
   "cell_type": "code",
   "execution_count": 16,
   "metadata": {},
   "outputs": [
    {
     "name": "stdout",
     "output_type": "stream",
     "text": [
      "Digite o valor que deseja calcular a tabuada6\n",
      "0\n",
      "6\n",
      "12\n",
      "18\n",
      "24\n",
      "30\n",
      "36\n",
      "42\n",
      "48\n",
      "54\n",
      "60\n"
     ]
    }
   ],
   "source": [
    "numero = int(input(\"Digite o valor que deseja calcular a tabuada\"))\n",
    "\n",
    "\n",
    "\n",
    "tabuada = 0 \n",
    "while tabuada <=10:\n",
    "    result = (tabuada * numero)\n",
    "    print(result)\n",
    "    tabuada+=1\n",
    "\n"
   ]
  },
  {
   "cell_type": "markdown",
   "metadata": {},
   "source": [
    "18-  A série de Fibonacci é formada pela seqüência 1,1,2,3,5,8,13,21,34,55,."
   ]
  },
  {
   "cell_type": "code",
   "execution_count": 11,
   "metadata": {},
   "outputs": [
    {
     "ename": "NameError",
     "evalue": "name 'b' is not defined",
     "output_type": "error",
     "traceback": [
      "\u001b[1;31m---------------------------------------------------------------------------\u001b[0m",
      "\u001b[1;31mNameError\u001b[0m                                 Traceback (most recent call last)",
      "\u001b[1;32m<ipython-input-11-1711557de380>\u001b[0m in \u001b[0;36m<module>\u001b[1;34m()\u001b[0m\n\u001b[0;32m      2\u001b[0m     \u001b[0ma\u001b[0m\u001b[1;33m,\u001b[0m \u001b[0mb\u001b[0m \u001b[1;33m=\u001b[0m \u001b[1;36m0\u001b[0m\u001b[1;33m,\u001b[0m \u001b[1;36m1\u001b[0m\u001b[1;33m\u001b[0m\u001b[0m\n\u001b[0;32m      3\u001b[0m \u001b[1;33m\u001b[0m\u001b[0m\n\u001b[1;32m----> 4\u001b[1;33m \u001b[1;32mwhile\u001b[0m \u001b[0mb\u001b[0m \u001b[1;33m<\u001b[0m \u001b[0mn\u001b[0m\u001b[1;33m:\u001b[0m\u001b[1;33m\u001b[0m\u001b[0m\n\u001b[0m\u001b[0;32m      5\u001b[0m     \u001b[0mprint\u001b[0m \u001b[1;33m(\u001b[0m\u001b[0mb\u001b[0m\u001b[1;33m)\u001b[0m\u001b[1;33m\u001b[0m\u001b[0m\n\u001b[0;32m      6\u001b[0m     \u001b[0ma\u001b[0m\u001b[1;33m,\u001b[0m \u001b[0mb\u001b[0m \u001b[1;33m=\u001b[0m \u001b[0mb\u001b[0m\u001b[1;33m,\u001b[0m \u001b[0ma\u001b[0m\u001b[1;33m+\u001b[0m\u001b[0mb\u001b[0m\u001b[1;33m\u001b[0m\u001b[0m\n",
      "\u001b[1;31mNameError\u001b[0m: name 'b' is not defined"
     ]
    }
   ],
   "source": [
    "def fibonacci(n):\n",
    "    a, b = 0, 1\n",
    "\n",
    "while b < n:\n",
    "    print (b)\n",
    "    a, b = b, a+b\n",
    "\n",
    "fibonacci(100)"
   ]
  },
  {
   "cell_type": "markdown",
   "metadata": {},
   "source": [
    "19-  Faça um programa que calcule o fatorial de um número inteiro fornecido pelo usuário. Ex.: 5!=5.4.3.2.1=120\n"
   ]
  },
  {
   "cell_type": "code",
   "execution_count": 14,
   "metadata": {},
   "outputs": [
    {
     "name": "stdout",
     "output_type": "stream",
     "text": [
      "Digite um valor5\n",
      "20\n"
     ]
    }
   ],
   "source": [
    "valor = int(input(\"Digite um valor\" ))\n",
    "\n",
    "if valor == 0:\n",
    "    print(0)\n",
    "if valor == 1:\n",
    "    print(1)\n",
    "if valor > 1:\n",
    "    print((valor - 1) * valor)\n",
    "    "
   ]
  },
  {
   "cell_type": "markdown",
   "metadata": {},
   "source": [
    "20-  O Sr. Manoel Joaquim possui uma grande loja de artigos de 1,99, com cerca de 10 caixas. Para agilizar o cálculo de quanto cada cliente deve pagar ele desenvolveu um tabela que contém o número de itens que o cliente comprou e ao lado o valor da conta. Desta forma a atendente do caixa precisa apenas contar quantos itens o cliente está levando e olhar na tabela de preços. Você foi contratado para desenvolver o programa que monta esta tabela de preços, que conterá os preços de 1 até 50 produtos, conforme o exemplo abaixo: \n",
    "Lojas Quase Dois - Tabela de preços\n",
    "1 - 1.99 \n",
    "2 - 3.98\n",
    "... 50 - 99.50"
   ]
  },
  {
   "cell_type": "code",
   "execution_count": 21,
   "metadata": {},
   "outputs": [
    {
     "name": "stdout",
     "output_type": "stream",
     "text": [
      "1 1.99\n",
      "2 3.98\n",
      "3 5.97\n",
      "4 7.96\n",
      "5 9.95\n",
      "6 11.94\n",
      "7 13.93\n",
      "8 15.92\n",
      "9 17.91\n",
      "10 19.9\n",
      "11 21.89\n",
      "12 23.88\n",
      "13 25.87\n",
      "14 27.86\n",
      "15 29.85\n",
      "16 31.84\n",
      "17 33.83\n",
      "18 35.82\n",
      "19 37.81\n",
      "20 39.8\n",
      "21 41.79\n",
      "22 43.78\n",
      "23 45.77\n",
      "24 47.76\n",
      "25 49.75\n",
      "26 51.74\n",
      "27 53.73\n",
      "28 55.72\n",
      "29 57.71\n",
      "30 59.7\n",
      "31 61.69\n",
      "32 63.68\n",
      "33 65.67\n",
      "34 67.66\n",
      "35 69.65\n",
      "36 71.64\n",
      "37 73.63\n",
      "38 75.62\n",
      "39 77.61\n",
      "40 79.6\n",
      "41 81.59\n",
      "42 83.58\n",
      "43 85.57\n",
      "44 87.56\n",
      "45 89.55\n",
      "46 91.54\n",
      "47 93.53\n",
      "48 95.52\n",
      "49 97.51\n",
      "50 99.5\n"
     ]
    }
   ],
   "source": [
    "item = 1\n",
    "#preco_final = 1.99 * item\n",
    "\n",
    "while item <= 50:\n",
    "    preco_final = 1.99 * item\n",
    "    print(item, preco_final)\n",
    "    \n",
    "    item+=1\n",
    "    "
   ]
  },
  {
   "cell_type": "markdown",
   "metadata": {},
   "source": [
    "21-  O Sr. Manoel Joaquim acaba de adquirir uma panificadora e pretende implantar a metodologia da tabelinha, que já é um sucesso na sua loja de 1,99. Você foi contratado para desenvolver o programa que monta a tabela de preços de pães, de 1 até 50 pães, a partir do preço do pão informado pelo usuário, conforme o exemplo abaixo: Preço do pão: 0.18\n",
    "Panificadora Pão de Ontem - Tabela de preços \n",
    "1 - 0.18 \n",
    "2 - 0.36 ... \n",
    "50 - 9.00 "
   ]
  },
  {
   "cell_type": "code",
   "execution_count": 28,
   "metadata": {},
   "outputs": [
    {
     "name": "stdout",
     "output_type": "stream",
     "text": [
      "Qual o valor do pão? 0.18\n",
      "1 0.18\n",
      "2 0.36\n",
      "3 0.54\n",
      "4 0.72\n",
      "5 0.8999999999999999\n",
      "6 1.08\n",
      "7 1.26\n",
      "8 1.44\n",
      "9 1.6199999999999999\n",
      "10 1.7999999999999998\n",
      "11 1.98\n",
      "12 2.16\n",
      "13 2.34\n",
      "14 2.52\n",
      "15 2.6999999999999997\n",
      "16 2.88\n",
      "17 3.06\n",
      "18 3.2399999999999998\n",
      "19 3.42\n",
      "20 3.5999999999999996\n",
      "21 3.78\n",
      "22 3.96\n",
      "23 4.14\n",
      "24 4.32\n",
      "25 4.5\n",
      "26 4.68\n",
      "27 4.859999999999999\n",
      "28 5.04\n",
      "29 5.22\n",
      "30 5.3999999999999995\n",
      "31 5.58\n",
      "32 5.76\n",
      "33 5.9399999999999995\n",
      "34 6.12\n",
      "35 6.3\n",
      "36 6.4799999999999995\n",
      "37 6.66\n",
      "38 6.84\n",
      "39 7.02\n",
      "40 7.199999999999999\n",
      "41 7.38\n",
      "42 7.56\n",
      "43 7.739999999999999\n",
      "44 7.92\n",
      "45 8.1\n",
      "46 8.28\n",
      "47 8.459999999999999\n",
      "48 8.64\n",
      "49 8.82\n",
      "50 9.0\n"
     ]
    }
   ],
   "source": [
    "import math\n",
    "valor_pao = float(input(\"Qual o valor do pão? \"))\n",
    "qtd_pao = 1\n",
    "while qtd_pao <= 50:\n",
    "    preco_final = qtd_pao * valor_pao \n",
    "    print(qtd_pao, preco_final)\n",
    "    qtd_pao +=1"
   ]
  },
  {
   "cell_type": "markdown",
   "metadata": {},
   "source": [
    "22- O Sr. Manoel Joaquim expandiu seus negócios para além dos negócios de 1,99 e agora possui uma loja de conveniências. Faça um programa que implemente uma caixa registradora rudimentar. O programa deverá receber um número desconhecido de valores referentes aos preços das mercadorias. Um valor zero deve ser informado pelo operador para indicar o fnal da compra. O programa deve então mostrar o total da compra e perguntar o valor em dinheiro que o cliente forneceu, para então calcular e mostrar o valor do troco. Após esta operação, o programa deverá voltar ao ponto inicial, para registrar a próxima compra. A saída deve ser conforme o exemplo abaixo: Lojas Tabajara Produto 1: R$ 2.20 Produto 2: R$ 5.80 Produto 3: R$ 0 Total: R$ 9.00 Dinheiro: R$ 20.00 Troco: R$ 11.00 "
   ]
  },
  {
   "cell_type": "code",
   "execution_count": null,
   "metadata": {},
   "outputs": [],
   "source": [
    "    "
   ]
  },
  {
   "cell_type": "markdown",
   "metadata": {},
   "source": [
    "23- Foi feita uma estatística em cinco cidades brasileiras para coletar dados sobre acidentes de trânsito. Foram obtidos os seguintes dados: - Código da cidade; - Número de veículos de passeio (em 1999); - Número de acidentes de trânsito com vítimas (em 1999). Desejase saber: - Qual o maior e menor índice de acidentes de transito e a que cidade pertence; - Qual a média de veículos nas cinco cidades juntas; - Qual a média de acidentes de trânsito nas cidades com menos de 2.000 veículos de passeio."
   ]
  },
  {
   "cell_type": "code",
   "execution_count": null,
   "metadata": {},
   "outputs": [],
   "source": []
  },
  {
   "cell_type": "markdown",
   "metadata": {},
   "source": [
    "24-  Faça um programa que receba o valor de uma dívida e mostre uma tabela com os seguintes dados: valor da dívida, valor dos juros, quantidade de parcelas e valor da parcela. Os juros e a quantidade de parcelas seguem a tabela abaixo: Quantidade de Parcelas  % de Juros sobre o valor inicial da dívida\n",
    "1       0 3       10 6       15 9       20 12      25 Exemplo de saída do programa: Valor da Dívida Valor dos Juros Quantidade de Parcelas  Valor da Parcela R$ 1.000,00     0               1                       R$  1.000,00 R$ 1.100,00     100             3                       R$    366,00 R$ 1.150,00     150             6                       R$    191,67"
   ]
  },
  {
   "cell_type": "code",
   "execution_count": null,
   "metadata": {},
   "outputs": [],
   "source": []
  },
  {
   "cell_type": "markdown",
   "metadata": {},
   "source": [
    "25- Faça um programa que mostre os n termos da Série a seguir:  S = 1/1 + 2/3 + 3/5 + 4/7 + 5/9 + ... + n/m. Imprima no fnal a soma da série.\n"
   ]
  },
  {
   "cell_type": "code",
   "execution_count": null,
   "metadata": {},
   "outputs": [],
   "source": []
  }
 ],
 "metadata": {
  "kernelspec": {
   "display_name": "Python 3",
   "language": "python",
   "name": "python3"
  },
  "language_info": {
   "codemirror_mode": {
    "name": "ipython",
    "version": 3
   },
   "file_extension": ".py",
   "mimetype": "text/x-python",
   "name": "python",
   "nbconvert_exporter": "python",
   "pygments_lexer": "ipython3",
   "version": "3.6.5"
  }
 },
 "nbformat": 4,
 "nbformat_minor": 2
}
