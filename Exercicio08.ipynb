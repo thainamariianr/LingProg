#THAINA MARIANE SOUZA 816118386

#1- Escreva uma função que calcula a soma dos n primeiros números naturais, dado que n é recebido como parâmetro. Escreva um decorator que garanta que o valor recebido é natural (maior ou igual a 1).

# usando funcao
def valida (f):
	def soma_primeros(n):
		if (n>=1):
			return f(n)
		else:
			print("Menor que 1")
			return 0
	return soma_primeros
def funcao(n):
	soma=0
	for x in range(n+1):
		soma = soma + x
	return soma

# usando @
funcao = valida(funcao)
print(funcao(24))
print(funcao(-5))

def valida2 (f):
	def soma_primeiros2(n):
		if (n>=1):
			return f(n)
		else:
			print("Menor que 1")
			return 0
	return soma_primeiros2

@valida2
def funcao2(n):
	soma=0
	for x in range(n+1):
		soma = soma + x
	return soma

print(funcao2(4))
print(funcao2(-5))

# usando classe
class Valida:
	def __init__(self,f3):
		self.f3 = f3
	def __call__(self,n):
		if (n>=1):
			return self.f3(n)
		else:
			print("Menor que 1")
			return -5
@Valida
def funcao2(n):
	soma=0
	for x in range(n+1):
		soma = soma + x
	return soma

print(funcao2(8))
print(funcao2(-8))


#2-Escreva uma função que recebe uma lista de triplas e, para cada uma, gera uma equação do segundo grau considerando que os elementos da tripla são os coefcientes usualmente denominados a, b e c da equação. Note que a sua função deverá devolver uma lista de equações. A geração das equações deve ser feita por meio de, evidentemente, decorators.

# usando funcao
def funcao_recebe(f):
	equacoes = []
	def decorator(lista):
		for e in lista:
			equacoes.append(f(e))
		return equacoes 
	return decorator
def funcao(lista):
	eq = str(lista) + "xˆ2" + "+" + str(lista) + "x" + "+"+ str(lista)
	return eq
funcao = funcao_recebe(funcao)
print(funcao([6,2,7]))

# usando @
def funcao_recebe2(f2):
	equacoes = []
	def decorator2(lista):
		for e in lista:
			equacoes.append(f2(e))
		return equacoes
	return decorator2

@funcao_recebe2
def funcao2(lista):
	eq = str(lista) + "xˆ2" + "+" + str(lista) + "x" + "+"+ str(lista)
	return eq
print(funcao2([6,4,2]))

# usando classe
class Eq:
	def __init__ (self,f3):
		self.f3 = f3
		self.equacoes =[]
	def __call__(self,lista):
		for e in lista:
			self.equacoes.append(self.f3(e))
		return self.equacoes
@Eq
def funcao3(lista):
	eq = str(lista) + "xˆ2" + "+" + str(lista) + "x" + "+"+ str(lista)
	return eq
print(funcao3([8,4,2]))


#3-Escreva uma função que exibe uma lista recebida como parâmetro. Ela deve, contudo, ordenar a lista antes. A ordenação deve ser feita por meio de um decorator.

# usando funcao

def ordena(f):
    def decorator(lista):
        return f(sorted(lista))

    return decorator


def funcao(lista):
    print(lista)


funcao = ordena(funcao)
print(funcao([15, 2, 4, 8, 1, 15, 1, 9]))

# usando @
def ordena2(f2):
    def decorator(lista):
        return f2(sorted(lista))

    return decorator


@ordena2
def funcao2(lista):
    print(lista)


print(funcao2([30, 2, 4, 12, 7, 30, 2, 7]))

# usando classe
class Ordena:
    def __init__(self, f3):
        self.f3 = f3

    def __call__(self, lista):
        return self.f3(sorted(lista))


@Ordena
def funcao3(lista):
    print(lista)


print(funcao3([12, 21, 5, 97, 18, 102, 13, 26]))

#4-Escreva uma classe para representar um café que, a princípio, tem somente preço. Um cafezinho custa 5 reais. Escreva classes para representar os adicionais: palitos de chocolate (0,50 cents), espuma de leite (0,20 cents), caramelo (0,10 cents) e canela (0,30 cents). Crie um objeto café e, a seguir, faça um menuzinho em que o usuário pode ficar indefinidamente escolhendo adicionais: 1 para chocolate, 2 para espuma de leite, 3 para caramelo e 4 para canela. A cada adicional escolhido, decore o objeto café. No fnal, mostre o preço total.

# usando funcao

def chocolate(f):
    def decorador():
        return  0.5 + f()
    return decorador

def espumaLeite(f):
    def decorador():
        return  0.2 + f()
    return decorador

def caramelo(f):
    def decorador():
        return  0.3 + f()
    return decorador

def caramelo(f):
    def decorador():
        return  0.3 + f()
    return decorador

def canela(f):
    def decorador():
        return  0.1 + f()
    return decorador

def cafe ():
    return 5

entrada = int(input("Menu: \n 1-Palitos de chocolate \n 2-Espuma de leite \n 3-Caramelo \n 4-Canela \n 0-Sair \n"))
while (entrada != 0):
    if (entrada ==1):
        print("Chocolate")
        cafe= chocolate(cafe)
    if(entrada == 2):
        print("Espuma de leite")
        cafe = espumaLeite(cafe)
        print(cafe())
    if(entrada == 3):
        print("Caramelo")
        cafe = espumaLeite(cafe)
    if (entrada ==4):
        print("Canela")
        cafe = espumaLeite(cafe)
    entrada = int(input("Digite: \n 1-Chocolate \n 2-Espuma de leite \n 3-Caramelo \n 4-Canela \n 0-Sair \n"))
print(cafe())

# usando @
def chocolate(f):
    def decorador():
        return 0.5 + f()

    return decorador


def espumaLeite(f):
    def decorador():
        return 0.2 + f()

    return decorador


def caramelo(f):
    def decorador():
        return 0.3 + f()

    return decorador


def canela(f):
    def decorador():
        return 0.1 + f()

    return decorador


entrada = int(input(
    "Menu: \n 1-Palitos de chocolate \n 2-Espuma de leite \n 3-Caramelo \n 4-Canela \n 0-Sair \n"))
while (entrada != 0):
    if (entrada == 1):
        print("Chocolate")


        @chocolate
        def cafe():
            return 5

    if (entrada == 2):
        print("Espuma de leite")


        @espumaLeite
        def cafe():
            return 5
    if (entrada == 3):
        print("Caramelo")


        @caramelo
        def cafe():
            return 5
    if (entrada == 4):
        print("Canela")


        @canela
        def cafe():
            return 5
    entrada = int(
        input("Digite: \n 1-Chocolate \n 2-Espuma de leite \n 3-Caramelo \n 4-Canela \n 0-Sair \n"))
print(cafe())

# usando classe
class Cafe:
    def __init__(self,preco=5):
        self.preco = preco

    def __call__(self,adicional):
        self.preco = self.preco + adicional.preco
        return self.preco

class Chocolates:
    def __init__ (self,chocolate):
        self.preco = chocolate
class EspumaLeite:
    def __init__ (self,leite):
        self.preco = leite
class Caramelo:
    def __init__ (self,caramelo):
        self.preco = caramelo
class Canela:
    def __init__ (self,canela):
        self.preco=canela

cafe = Cafe()
entrada = int(input("Menu: \n 1-Palitos de chocolate \n 2-Espuma de leite \n 3-Caramelo \n 4-Canela \n 0-Sair \n"))

while (entrada != 0):
    if (entrada ==1):
        print("chocolate")
        cafe(Chocolates(.50))
    if(entrada == 2):
        print("espuma de leite")
        cafe(EspumaLeite(.20))
    if(entrada == 3):
        print("Caramelo")
        cafe(Caramelo(0.10))
    if (entrada ==4):
        print("Canela")
        cafe(Canela(0.30))
    entrada = int(input("Digite: \n 1-Chocolate \n 2-Espuma de leite \n 3-Caramelo \n 4-Canela \n 0-Sair \n"))
print(cafe.preco)
