{
 "cells": [
  {
   "cell_type": "markdown",
   "metadata": {},
   "source": [
    "Exercícios Aula 02 - Thainá Mariane Souza Silva 816118386"
   ]
  },
  {
   "cell_type": "markdown",
   "metadata": {},
   "source": [
    "Exercicios de Lista\n",
    "\n",
    "1 Crie um programa que recebe uma lista de números e \n",
    " - retorne o maior elemento \n",
    " - retorne a soma dos elementos \n",
    " - retorne o número de ocorrências do primeiro elemento da lista \n",
    " - retorne a média dos elementos\n",
    " - retorne o valor mais próximo da média dos elementos\n",
    " - retorne a soma dos elementos com valor negativo\n",
    " - retorne a quantidade de vizinhos iguais"
   ]
  },
  {
   "cell_type": "code",
   "execution_count": null,
   "metadata": {},
   "outputs": [],
   "source": [
    "import math\n",
    "\n",
    "lista = [input(\"Digite uma lista\") for i in range(5)]\n",
    "\n",
    "maior = max(lista)\n",
    "soma = sum(lista)\n",
    "ocorrencia = lista.count(lista[0])\n",
    "negativo = sum(i for i in list if i < 0)\n",
    "media = sum(lista)/ len(lista)\n",
    "\n",
    "\n",
    "print(\"O maior elemento da lista é: {} \" .formart(maior))\n",
    "print(\"A soma dos elementos da lista é: {} \" .format(soma))\n",
    "print(\"O número de ocorrencias do primeiro elemento é: {} \" .format(lista))\n",
    "print(\"A media dos elementos é: {} \" .format(media))\n",
    "print(\"Valor mais próximo da média dos elementos {}\" for x in lista: media - x )\n",
    "print(\"A soma dos valores negativos é: {}\" .format(negativo))\n",
    "\n",
    "vizinho = 0\n",
    "for i in range(len(list)):\n",
    "    if(i < (len(list)-1)):        \n",
    "        if(list[i] == list[i+1]):\n",
    "            vizinho += 1        \n",
    "\n",
    "print(\"A quantidade de vizinhos iguais é: {}\" .format(vizinho))\n"
   ]
  },
  {
   "cell_type": "markdown",
   "metadata": {},
   "source": [
    "2 Faça um programa que receba duas listas e retorne True se são iguais ou False caso contrario. Duas listas são iguais se possuem os mesmos valores e na mesma ordem."
   ]
  },
  {
   "cell_type": "code",
   "execution_count": null,
   "metadata": {},
   "outputs": [],
   "source": [
    "\n",
    "#Para cada x no input ..... split quebrar a string de acordo com o que foi definido\n",
    "lista = [input(\"Digite um valor para incluir na lista \") for i in range(3)]\n",
    "lista2 = [input(\"Digite um valor para incluir na lista 2 \") for i in range(3)]\n",
    "\n",
    "\n",
    "if lista == lista2:\n",
    "    print(\"True\")\n",
    "else:\n",
    "    print(\"False\")\n",
    "\n",
    "\n"
   ]
  },
  {
   "cell_type": "markdown",
   "metadata": {},
   "source": [
    "3 Faça um programa que receba duas listas e retorne True se têm os mesmos elementos ou False caso contrário Duas listas possuem os mesmos elementos quando são compostas pelos mesmos valores, mas não obrigatoriamente na mesma ordem"
   ]
  },
  {
   "cell_type": "code",
   "execution_count": null,
   "metadata": {},
   "outputs": [],
   "source": [
    "\n",
    "#Para cada x no input ..... split quebrar a string de acordo com o que foi definido\n",
    "lista = [input(\"Digite um valor para incluir na lista: \") for i in range(3)]\n",
    "lista = [input(\"Digite um valor para incluir na lista: \") for i in range(3)]\n",
    "\n",
    "result = lista\n",
    "if lista == lista2:\n",
    "    print(\"true\")\n",
    "else:\n",
    "    i=0\n",
    "    for i in lista[:]:\n",
    "        if i in lista2:\n",
    "            result.remove(i)\n",
    "    print(\"Resultado: \", result)\n"
   ]
  },
  {
   "cell_type": "markdown",
   "metadata": {},
   "source": [
    " 4 Faça um programa que percorre uma lista com o seguinte formato: [['Brasil', 'Italia', [10, 9]], ['Brasil', 'Espanha', [5, 7]], ['Italia', 'Espanha', [7,8]]]. Essa lista indica o número de faltas que cada time fez em cada jogo. Na lista acima, no jogo entre Brasil e Itália, o Brasil fez 10 faltas e a Itália fez 9. O programa deve imprimir na tela: - o total de faltas do campeonato - o time que fez mais faltas - o time que fez menos faltas\n"
   ]
  },
  {
   "cell_type": "code",
   "execution_count": null,
   "metadata": {},
   "outputs": [],
   "source": [
    "import operator\n",
    "\n",
    "\n",
    "lista =  [['Brasil', 'Italia', [10, 9]], ['Brasil', 'Espanha', [5, 7]], ['Italia', 'Espanha', [7,8]]]\n",
    "\n",
    "dicionario = {\"Brasil\": 0, \"Italia\": 0, \"Espanha\": 0}\n",
    "\n",
    "total_faltas = 0\n",
    "\n",
    "for item in lista:\n",
    "    total_faltas += sum(item[2])\n",
    "    dicionario[item[0]] += item[2][0]\n",
    "    dicionario[item[1]] += item[2][1]\n",
    "    print(dicionario)\n",
    "\n",
    "time_mais_falta = max(dicionario.items(), key=operator.itemgetter(1))[0]\n",
    "time_menos_falta = min(dicionario.items(), key=operator.itemgetter(1))[0]\n",
    "\n",
    "print(f\"Total de faltas {total_faltas}\")\n",
    "print(f\"Total de faltas {time_mais_falta}\")\n",
    "print(f\"Total de faltas {time_menos_falta}\")\n",
    "\n",
    "\n",
    "        \n",
    "\n",
    "\n"
   ]
  },
  {
   "cell_type": "markdown",
   "metadata": {},
   "source": [
    "Exercicios Dicionario \n",
    "\n",
    "5 Escreva um programa que conta a quantidade de vogais em uma string e armazena tal quantidade em um dicionário, onde a chave é a vogal considerada.\n"
   ]
  },
  {
   "cell_type": "code",
   "execution_count": null,
   "metadata": {},
   "outputs": [],
   "source": [
    "import string \n",
    "\n",
    "palavra  = input(\"Digite uma palavra: \")\n",
    "vogal = ['a', 'e', 'i', 'o', 'u']\n",
    "\n",
    "dicionario = {'a': 0, 'e': 0, 'i':0, 'o': 0, 'u': 0}\n",
    "\n",
    "for letra in palavra:\n",
    "    if letra in vogal:\n",
    "        dicionario[letra] = dicionario[letra] + 1\n",
    "print(dicionario)\n",
    "    \n",
    "        \n",
    "    \n",
    "            \n",
    "\n"
   ]
  },
  {
   "cell_type": "markdown",
   "metadata": {},
   "source": [
    "6 Escreva um programa que lê̂ duas notas de vários alunos e armazena tais notas em um dicionário, onde a chave é o nome do aluno. A entrada de dados deve terminar quando for lida uma string vazia como nome. Escreva uma função que retorna a média do aluno, dado seu nome. "
   ]
  },
  {
   "cell_type": "code",
   "execution_count": null,
   "metadata": {},
   "outputs": [],
   "source": [
    "texto = input(\"Digite o nome do aluno é duas notas, Nome, nota1, nota2 separando por ponto e virgula\")\n",
    "texto = texto.split(\";\")\n",
    "\n",
    "notas = {}\n",
    "count = 0 \n",
    "\n",
    "for n in texto:\n",
    "    nota = n.split(\",\")\n",
    "    notas[nota[0]] = {\"nota1\": nota[1], \"nota2\": nota[2]}\n",
    "    \n",
    "for n in notas: \n",
    "    media = (int(notas[n]['nota1']) + int(notas[n]['nota2']))/2\n",
    "    print(\"A media do aluno(a) {} é {} \" .format(n, media))\n",
    "    \n"
   ]
  },
  {
   "cell_type": "markdown",
   "metadata": {},
   "source": [
    " 7 Uma pista de Kart permite 10 voltas para cada um de 6 corredores. Escreva um programa que leia todos os tempos em segundos e os guarde em um dicionário, onde a chave é o nome do corredor. Ao fnal diga de quem foi a melhor volta da prova e em que volta; e ainda a classifcação fnal em ordem (1o o campeão). O campeão é o que tem a menor média de tempos. "
   ]
  },
  {
   "cell_type": "code",
   "execution_count": null,
   "metadata": {},
   "outputs": [],
   "source": [
    "i = 0\n",
    "while(i  <= 6):\n",
    "         voltas  =  input(\"Digite os valores de voltas: 'Piloto':[2,6,8,1] \")\n",
    "         dic = dict(x.split() for x in voltas.splitlines())\n",
    "\n",
    "print(dic)"
   ]
  },
  {
   "cell_type": "markdown",
   "metadata": {},
   "source": [
    "8 Escreva um programa para armazenar uma agenda de telefones em um dicionário. Cada pessoa pode ter um ou mais telefones e a chave do dicionário é o nome da pessoa. Seu programa deve ter as seguintes funções: incluirNovoNome – essa função acrescenta um novo nome na agenda, com um ou mais telefones. Ela deve receber como argumentos o nome e os telefones. incluirTelefone – essa função acrescenta um telefone em um nome existente na agenda. Caso o nome não exista na agenda, você̂ deve\n",
    "perguntar se a pessoa deseja inclui-lo. Caso a resposta seja afrmativa, use a função anterior para incluir o novo nome. excluirTelefone – essa função exclui um telefone de uma pessoa que já está na agenda. Se a pessoa tiver apenas um telefone, ela deve ser excluída da  agenda. excluirNome – essa função exclui uma pessoa da agenda. consultarTelefone – essa função retorna os telefones de uma pessoa na agenda. "
   ]
  },
  {
   "cell_type": "code",
   "execution_count": null,
   "metadata": {},
   "outputs": [],
   "source": []
  },
  {
   "cell_type": "markdown",
   "metadata": {},
   "source": [
    "Arquivos 9 Faça um programa que leia um arquivo texto contendo uma lista de endereços IP e gere um outro arquivo, contendo um relatório dos endereços IP válidos e inválidos. O arquivo de entrada possui o seguinte formato: 200.135.80.9 192.168.1.1 8.35.67.74 257.32.4.5 85.345.1.2 1.2.3.4 9.8.234.5 192.168.0.256 O arquivo de saída possui o seguinte formato: [Endereços válidos:] 200.135.80.9 192.168.1.1 8.35.67.74 1.2.3.4 [Endereços inválidos:] 257.32.4.5 85.345.1.2 9.8.234.5 192.168.0.256 "
   ]
  },
  {
   "cell_type": "code",
   "execution_count": null,
   "metadata": {},
   "outputs": [],
   "source": []
  },
  {
   "cell_type": "markdown",
   "metadata": {},
   "source": [
    "10 A ACME Inc., uma empresa de 500 funcionários, está tendo problemas de espaço em disco no seu servidor de arquivos. Para tentar resolver este problema, o Administrador de Rede precisa saber qual o espaço ocupado pelos usuários, e identifcar os usuários com maior espaço ocupado. Através de um programa, baixado da Internet, ele conseguiu gerar o seguinte arquivo, chamado \"usuarios.txt\": alexandre       456123789 anderson        1245698456 antonio         123456456 carlos          91257581 cesar           987458 rosemary        789456125 Neste arquivo, o nome do usuário possui 15 caracteres. A partir deste arquivo, você deve criar um programa que gere um relatório, chamado \"relatório.txt\", no seguinte formato: ACME Inc.               Uso do espaço em disco pelos usuários\n",
    "----------------------------------------------------------------------Nr.  Usuário        Espaço utilizado     % do uso 1    alexandre       434,99 MB             16,85% 2    anderson       1187,99 MB             46,02% 3    antonio         117,73 MB              4,56% 4    carlos           87,03 MB              3,37% 5    cesar             0,94 MB              0,04% 6    rosemary        752,88 MB             29,16% Espaço total ocupado: 2581,57 MB Espaço médio ocupado: 430,26 MB O arquivo de entrada deve ser lido uma única vez, e os dados armazenados em memória, caso sejam necessários, de forma a agilizar a execução do programa. A conversão da espaço ocupado em disco, de bytes para megabytes deverá ser feita através de uma função separada, que será chamada pelo programa principal. O cálculo do percentual de uso também deverá ser feito através de uma função, que será chamada pelo programa principal."
   ]
  },
  {
   "cell_type": "code",
   "execution_count": null,
   "metadata": {},
   "outputs": [],
   "source": []
  }
 ],
 "metadata": {
  "kernelspec": {
   "display_name": "Python 3",
   "language": "python",
   "name": "python3"
  },
  "language_info": {
   "codemirror_mode": {
    "name": "ipython",
    "version": 3
   },
   "file_extension": ".py",
   "mimetype": "text/x-python",
   "name": "python",
   "nbconvert_exporter": "python",
   "pygments_lexer": "ipython3",
   "version": "3.6.5"
  }
 },
 "nbformat": 4,
 "nbformat_minor": 2
}
