{
 "cells": [
  {
   "cell_type": "markdown",
   "metadata": {},
   "source": [
    "Thaina Mariane Souza Silva \n",
    "816118386"
   ]
  },
  {
   "cell_type": "markdown",
   "metadata": {},
   "source": [
    "\n",
    "1- Defina a função soma_nat que recebe como argumento um número natural n e devolve a soma de todos os números naturais até n."
   ]
  },
  {
   "cell_type": "code",
   "execution_count": 7,
   "metadata": {},
   "outputs": [
    {
     "name": "stdout",
     "output_type": "stream",
     "text": [
      "Insira um número natural: 5\n",
      "A soma dos números naturais anteriores é: 15\n"
     ]
    }
   ],
   "source": [
    "get_number = lambda: int(input('Insira um número natural: '))  \n",
    "soma_nat = lambda n:0 if n == 0 else print('Digite um número natural apenas!') if n<0 else n+soma_nat(n-1)\n",
    "(lambda m:print(f'A soma dos números naturais anteriores é: {m}') if m != None \n",
    " else print('Número digitado não é natural'))(soma_nat(get_number()))"
   ]
  },
  {
   "cell_type": "markdown",
   "metadata": {},
   "source": [
    "\n",
    "2- Defina a função div que recebe como argumentos dois números naturais m e n e devolve o resultado da divisão inteira de m por n. Neste exercício você não pode recorrer às operações aritméticas de multiplicação, divisão e resto da divisão inteira."
   ]
  },
  {
   "cell_type": "code",
   "execution_count": 10,
   "metadata": {},
   "outputs": [
    {
     "name": "stdout",
     "output_type": "stream",
     "text": [
      "Iniciando...\n",
      "Fim\n"
     ]
    }
   ],
   "source": [
    "div = lambda m,n: 1 + div(m - n, n) if m >= n else 0\n",
    "\n",
    "print('Iniciando...')\n",
    "assert(div(5,2) == 2)\n",
    "assert(div(9,2) == 4)\n",
    "assert(div(3,2) == 1)\n",
    "print('Fim')"
   ]
  },
  {
   "cell_type": "markdown",
   "metadata": {},
   "source": [
    "\n",
    "3- Defina a função prim_alg que recebe como argumento um número natural e devolve o primeiro algarismo (o mais significativo) na representação decimal de n."
   ]
  },
  {
   "cell_type": "code",
   "execution_count": 12,
   "metadata": {},
   "outputs": [
    {
     "name": "stdout",
     "output_type": "stream",
     "text": [
      "Iniciando...\n",
      "Fim\n"
     ]
    }
   ],
   "source": [
    "prim_alg = lambda n: n if n < 10 else prim_alg(n // 10)\n",
    "\n",
    "print('Iniciando...')\n",
    "assert(prim_alg(1231) == 1)\n",
    "assert(prim_alg(483) == 4)\n",
    "print('Fim')"
   ]
  },
  {
   "cell_type": "markdown",
   "metadata": {},
   "source": [
    "4-Defina a função prod_lista que recebe como argumento uma lista de inteiros e devolve o produto dos seus elementos"
   ]
  },
  {
   "cell_type": "code",
   "execution_count": 13,
   "metadata": {},
   "outputs": [
    {
     "name": "stdout",
     "output_type": "stream",
     "text": [
      "OBS: Você será solicitado a inserir elementos na lista até inserir um elemento inválido\n",
      "Insira um número na lista: 1\n",
      "Insira um número na lista: 2\n",
      "Insira um número na lista: 3\n",
      "Insira um número na lista: 4\n",
      "Insira um número na lista: 5\n",
      "Insira um número na lista: 6\n",
      "Insira um número na lista: 6\n",
      "Insira um número na lista: 6\n",
      "Insira um número na lista: 7\n",
      "Insira um número na lista: \n",
      "Lista = [1.0, 2.0, 3.0, 4.0, 5.0, 6.0, 6.0, 6.0, 7.0] \n",
      "Produto dos elementos = 181440.0\n"
     ]
    }
   ],
   "source": [
    "monta = lambda: float(input('Insira um número na lista: '))\n",
    "produto_lista = lambda lista:lista[len(lista)-1] * produto_lista(lista[:-1]) if len(lista) > 0 else 1  \n",
    "main = lambda funcao: funcao()\n",
    "\n",
    "def monta_lista():\n",
    "    lista = []\n",
    "    print('OBS: Você será solicitado a inserir elementos na lista até inserir um elemento inválido')\n",
    "    while True:\n",
    "        try:\n",
    "            lista.append(monta())\n",
    "        except (ValueError, Exception):\n",
    "            if len(lista) > 0:\n",
    "                produtos = produto_lista(lista)\n",
    "            else:\n",
    "                produtos = 0\n",
    "            print(f'Lista = {lista} \\nProduto dos elementos = {produtos}')\n",
    "            break\n",
    "    \n",
    "main(monta_lista)"
   ]
  },
  {
   "cell_type": "markdown",
   "metadata": {},
   "source": [
    "\n",
    "5- Defina a função contem_parQ que recebe como argumento uma lista de números inteiros w e devolve True se w contém um número par e False em caso contrário"
   ]
  },
  {
   "cell_type": "code",
   "execution_count": null,
   "metadata": {},
   "outputs": [],
   "source": [
    "\n",
    "contem_parQ = lambda w: False if len(w) == 0 or (w[len(w) - 1] % 2 != 0 and not contem_parQ(w[:-1])) else True\n",
    "\n",
    "print('Iniciando..')\n",
    "assert(contem_parQ([1,1,3,7,5]) == False)\n",
    "assert(contem_parQ([1,2,3,4,5]) == True)\n",
    "assert(contem_parQ([2,4,6,8,10]) == True)\n",
    "print('Fim')"
   ]
  },
  {
   "cell_type": "markdown",
   "metadata": {},
   "source": [
    "\n",
    "6- Defina a função todos_imparesQ que recebe como argumento uma lista de números inteiros w e devolve True se w contém apenas números ímpares e False em caso contrário."
   ]
  },
  {
   "cell_type": "code",
   "execution_count": null,
   "metadata": {},
   "outputs": [],
   "source": [
    "todos_imparesQ = lambda w: True if len(w) == 0 or (w[len(w) - 1] % 2 != 0 and todos_imparesQ(w[:-1])) else False\n",
    "\n",
    "print('Iniciando...')\n",
    "assert(todos_imparesQ([1,1,3,7,11]) == True)\n",
    "assert(todos_imparesQ([1,2,3,4,5]) == False)\n",
    "assert(todos_imparesQ([2,4,6,8,10]) == False)\n",
    "print('Fim')"
   ]
  },
  {
   "cell_type": "markdown",
   "metadata": {},
   "source": [
    "\n",
    "7-Defina a função pertenceQ que recebe como argumentos uma lista de números inteiros w e um número inteiro n e devolve True se n ocorre em w e False em caso contrário."
   ]
  },
  {
   "cell_type": "code",
   "execution_count": null,
   "metadata": {},
   "outputs": [
    {
     "name": "stdout",
     "output_type": "stream",
     "text": [
      "OBS: Você será solicitado a inserir elementos na lista até inserir um elemento inválido\n",
      "Insira um número inteiro na lista: 4\n",
      "Insira um número inteiro na lista: 5\n",
      "Insira um número inteiro na lista: 6\n",
      "Insira um número inteiro na lista: 3\n",
      "Insira um número inteiro na lista: \n",
      "Lista = [4, 5, 6, 3]\n"
     ]
    }
   ],
   "source": [
    "monta = lambda: int(input('Insira um número inteiro na lista: '))\n",
    "inteiro = lambda: int(input('Digite um número inteiro: '))\n",
    "pertence = lambda lista, numero: True if len(lista)> 0 and (numero in lista or pertence(lista[:-1],numero)) else False\n",
    "main = lambda funcao: funcao()\n",
    "\n",
    "def monta_lista():\n",
    "    lista = []\n",
    "    print('OBS: Você será solicitado a inserir elementos na lista até inserir um elemento inválido')\n",
    "    while True:\n",
    "        try:\n",
    "            lista.append(monta())\n",
    "        except (ValueError, Exception):\n",
    "            print(f'Lista = {lista}')\n",
    "            numero =  inteiro()\n",
    "            resultado = pertence(lista, numero)\n",
    "            print(resultado)\n",
    "            break\n",
    "\n",
    "main(monta_lista)"
   ]
  },
  {
   "cell_type": "markdown",
   "metadata": {},
   "source": [
    "8-Defna a função junta que recebe como argumentos duas listas de números inteiros  o1  e  o2  e devolve a concatenação de  o1  com  o2 .\n",
    "Ex: junta([1,2,3],[4,5,6]) = [1, 2, 3, 4, 5, 6] Ex: junta([],[4,5,6]) = [4, 5, 6] Ex: junta([1,2,3],[]) = [1, 2, 3]\n"
   ]
  },
  {
   "cell_type": "markdown",
   "metadata": {},
   "source": [
    "9- Defna a função temPrimo  que recebe como argumento uma lista de listas de números inteiros  o  e devolve True se alguma das sublistas  o  tem um número primo e False em caso contrário.\n",
    "Ex: temPrimo ([[4,4,4,4],[5,4,6,7],[2,4,3]]) = True Ex: temPrimo ([[4,4,4,4],[4,4,4],[],[4]]) = False"
   ]
  },
  {
   "cell_type": "markdown",
   "metadata": {},
   "source": [
    "10-Defna a função inverteLista que recebe como argumento uma lista  o e devolve a mesma lista mas invertda.\n",
    "Ex: inverteLista([1,2,3,4,5]) = [5, 4, 3, 2, 1] Ex: inverteLista([])"
   ]
  },
  {
   "cell_type": "code",
   "execution_count": 1,
   "metadata": {},
   "outputs": [
    {
     "name": "stdout",
     "output_type": "stream",
     "text": [
      "OBS: Você será solicitado a inserir elementos na lista até inserir um elemento inválido\n",
      "Insira um número inteiro na lista: 4\n",
      "Insira um número inteiro na lista: 5\n",
      "Insira um número inteiro na lista: 6\n",
      "Insira um número inteiro na lista: \n",
      "Lista = [4, 5, 6]\n",
      "Lista Invertida = [6, 5, 4]\n"
     ]
    }
   ],
   "source": [
    "monta = lambda: int(input('Insira um número inteiro na lista: '))\n",
    "## recursivo\n",
    "inverte = lambda lista: (inverte(lista[1:]) + lista[:1] if lista else [])\n",
    "main = lambda funcao: funcao()\n",
    "\n",
    "def monta_lista():\n",
    "    lista = []\n",
    "    n_lista = []\n",
    "    print('OBS: Você será solicitado a inserir elementos na lista até inserir um elemento inválido')\n",
    "    while True:\n",
    "        try:\n",
    "            lista.append(monta())\n",
    "        except (ValueError, Exception):\n",
    "            print(f'Lista = {lista}')\n",
    "            n_lista = inverte(lista)\n",
    "            print(f'Lista Invertida = {n_lista}')\n",
    "            break\n",
    "main(monta_lista)"
   ]
  }
 ],
 "metadata": {
  "kernelspec": {
   "display_name": "Python 3",
   "language": "python",
   "name": "python3"
  },
  "language_info": {
   "codemirror_mode": {
    "name": "ipython",
    "version": 3
   },
   "file_extension": ".py",
   "mimetype": "text/x-python",
   "name": "python",
   "nbconvert_exporter": "python",
   "pygments_lexer": "ipython3",
   "version": "3.6.5"
  }
 },
 "nbformat": 4,
 "nbformat_minor": 2
}
